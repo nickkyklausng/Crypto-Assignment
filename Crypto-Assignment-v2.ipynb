{
 "cells": [
  {
   "cell_type": "code",
   "execution_count": 2,
   "metadata": {},
   "outputs": [],
   "source": [
    "#%matplotlib notebook\n",
    "import json\n",
    "import requests\n",
    "#from config import api_key\n",
    "import matplotlib.pyplot as plt\n",
    "import numpy as np\n",
    "import pandas as pd\n",
    "import os\n",
    "import csv"
   ]
  },
  {
   "cell_type": "code",
   "execution_count": null,
   "metadata": {},
   "outputs": [],
   "source": [
    "# Nick"
   ]
  },
  {
   "cell_type": "code",
   "execution_count": null,
   "metadata": {},
   "outputs": [],
   "source": [
    "# Nick"
   ]
  },
  {
   "cell_type": "code",
   "execution_count": null,
   "metadata": {},
   "outputs": [],
   "source": [
    "# Nick"
   ]
  },
  {
   "cell_type": "code",
   "execution_count": null,
   "metadata": {},
   "outputs": [],
   "source": [
    "# Nick"
   ]
  },
  {
   "cell_type": "code",
   "execution_count": null,
   "metadata": {},
   "outputs": [],
   "source": [
    "# Nick"
   ]
  },
  {
   "cell_type": "code",
   "execution_count": null,
   "metadata": {},
   "outputs": [],
   "source": [
    "# David"
   ]
  },
  {
   "cell_type": "code",
   "execution_count": null,
   "metadata": {},
   "outputs": [],
   "source": [
    "# David"
   ]
  },
  {
   "cell_type": "code",
   "execution_count": null,
   "metadata": {},
   "outputs": [],
   "source": [
    "# David"
   ]
  },
  {
   "cell_type": "code",
   "execution_count": null,
   "metadata": {},
   "outputs": [],
   "source": [
    "# David"
   ]
  },
  {
   "cell_type": "code",
   "execution_count": null,
   "metadata": {},
   "outputs": [],
   "source": [
    "# David"
   ]
  },
  {
   "cell_type": "code",
   "execution_count": 22,
   "metadata": {},
   "outputs": [],
   "source": [
    "# Milena\n",
    "kaggle_dataset_path = '../consolidated_coin_data.csv'\n",
    "coin_df = pd.read_csv(kaggle_dataset_path)"
   ]
  },
  {
   "cell_type": "code",
   "execution_count": 23,
   "metadata": {},
   "outputs": [
    {
     "data": {
      "text/html": [
       "<div>\n",
       "<style scoped>\n",
       "    .dataframe tbody tr th:only-of-type {\n",
       "        vertical-align: middle;\n",
       "    }\n",
       "\n",
       "    .dataframe tbody tr th {\n",
       "        vertical-align: top;\n",
       "    }\n",
       "\n",
       "    .dataframe thead th {\n",
       "        text-align: right;\n",
       "    }\n",
       "</style>\n",
       "<table border=\"1\" class=\"dataframe\">\n",
       "  <thead>\n",
       "    <tr style=\"text-align: right;\">\n",
       "      <th></th>\n",
       "      <th>Currency</th>\n",
       "      <th>Date</th>\n",
       "      <th>Open</th>\n",
       "      <th>High</th>\n",
       "      <th>Low</th>\n",
       "      <th>Close</th>\n",
       "      <th>Volume</th>\n",
       "      <th>Market Cap</th>\n",
       "    </tr>\n",
       "  </thead>\n",
       "  <tbody>\n",
       "    <tr>\n",
       "      <th>0</th>\n",
       "      <td>tezos</td>\n",
       "      <td>Dec 04, 2019</td>\n",
       "      <td>1.29</td>\n",
       "      <td>1.32</td>\n",
       "      <td>1.25</td>\n",
       "      <td>1.25</td>\n",
       "      <td>46,048,752</td>\n",
       "      <td>824,588,509</td>\n",
       "    </tr>\n",
       "    <tr>\n",
       "      <th>1</th>\n",
       "      <td>tezos</td>\n",
       "      <td>Dec 03, 2019</td>\n",
       "      <td>1.24</td>\n",
       "      <td>1.32</td>\n",
       "      <td>1.21</td>\n",
       "      <td>1.29</td>\n",
       "      <td>41,462,224</td>\n",
       "      <td>853,213,342</td>\n",
       "    </tr>\n",
       "    <tr>\n",
       "      <th>2</th>\n",
       "      <td>tezos</td>\n",
       "      <td>Dec 02, 2019</td>\n",
       "      <td>1.25</td>\n",
       "      <td>1.26</td>\n",
       "      <td>1.20</td>\n",
       "      <td>1.24</td>\n",
       "      <td>27,574,097</td>\n",
       "      <td>817,872,179</td>\n",
       "    </tr>\n",
       "    <tr>\n",
       "      <th>3</th>\n",
       "      <td>tezos</td>\n",
       "      <td>Dec 01, 2019</td>\n",
       "      <td>1.33</td>\n",
       "      <td>1.34</td>\n",
       "      <td>1.25</td>\n",
       "      <td>1.25</td>\n",
       "      <td>24,127,567</td>\n",
       "      <td>828,296,390</td>\n",
       "    </tr>\n",
       "    <tr>\n",
       "      <th>4</th>\n",
       "      <td>tezos</td>\n",
       "      <td>Nov 30, 2019</td>\n",
       "      <td>1.31</td>\n",
       "      <td>1.37</td>\n",
       "      <td>1.31</td>\n",
       "      <td>1.33</td>\n",
       "      <td>28,706,667</td>\n",
       "      <td>879,181,680</td>\n",
       "    </tr>\n",
       "  </tbody>\n",
       "</table>\n",
       "</div>"
      ],
      "text/plain": [
       "  Currency          Date  Open  High   Low Close      Volume   Market Cap\n",
       "0    tezos  Dec 04, 2019  1.29  1.32  1.25  1.25  46,048,752  824,588,509\n",
       "1    tezos  Dec 03, 2019  1.24  1.32  1.21  1.29  41,462,224  853,213,342\n",
       "2    tezos  Dec 02, 2019  1.25  1.26  1.20  1.24  27,574,097  817,872,179\n",
       "3    tezos  Dec 01, 2019  1.33  1.34  1.25  1.25  24,127,567  828,296,390\n",
       "4    tezos  Nov 30, 2019  1.31  1.37  1.31  1.33  28,706,667  879,181,680"
      ]
     },
     "execution_count": 23,
     "metadata": {},
     "output_type": "execute_result"
    }
   ],
   "source": [
    "# Milena\n",
    "coin_df.head()"
   ]
  },
  {
   "cell_type": "code",
   "execution_count": 24,
   "metadata": {},
   "outputs": [
    {
     "data": {
      "text/plain": [
       "(28944, 8)"
      ]
     },
     "execution_count": 24,
     "metadata": {},
     "output_type": "execute_result"
    }
   ],
   "source": [
    "coin_df.shape"
   ]
  },
  {
   "cell_type": "code",
   "execution_count": 25,
   "metadata": {},
   "outputs": [
    {
     "data": {
      "text/plain": [
       "array(['tezos', 'binance-coin', 'eos', 'bitcoin', 'tether', 'xrp',\n",
       "       'bitcoin-cash', 'stellar', 'litecoin', 'ethereum', 'cardano',\n",
       "       'bitcoin-sv'], dtype=object)"
      ]
     },
     "execution_count": 25,
     "metadata": {},
     "output_type": "execute_result"
    }
   ],
   "source": [
    "# Milena\n",
    "coin_df['Currency'].unique()"
   ]
  },
  {
   "cell_type": "code",
   "execution_count": 26,
   "metadata": {},
   "outputs": [
    {
     "data": {
      "text/html": [
       "<div>\n",
       "<style scoped>\n",
       "    .dataframe tbody tr th:only-of-type {\n",
       "        vertical-align: middle;\n",
       "    }\n",
       "\n",
       "    .dataframe tbody tr th {\n",
       "        vertical-align: top;\n",
       "    }\n",
       "\n",
       "    .dataframe thead th {\n",
       "        text-align: right;\n",
       "    }\n",
       "</style>\n",
       "<table border=\"1\" class=\"dataframe\">\n",
       "  <thead>\n",
       "    <tr style=\"text-align: right;\">\n",
       "      <th></th>\n",
       "      <th>Currency</th>\n",
       "      <th>Open</th>\n",
       "      <th>High</th>\n",
       "      <th>Low</th>\n",
       "      <th>Close</th>\n",
       "      <th>Volume</th>\n",
       "      <th>Market Cap</th>\n",
       "    </tr>\n",
       "    <tr>\n",
       "      <th>Date</th>\n",
       "      <th></th>\n",
       "      <th></th>\n",
       "      <th></th>\n",
       "      <th></th>\n",
       "      <th></th>\n",
       "      <th></th>\n",
       "      <th></th>\n",
       "    </tr>\n",
       "  </thead>\n",
       "  <tbody>\n",
       "    <tr>\n",
       "      <th>Dec 04, 2019</th>\n",
       "      <td>bitcoin</td>\n",
       "      <td>7,320.13</td>\n",
       "      <td>7,539.78</td>\n",
       "      <td>7,170.92</td>\n",
       "      <td>7,252.03</td>\n",
       "      <td>21,664,240,918</td>\n",
       "      <td>131,143,073,943</td>\n",
       "    </tr>\n",
       "    <tr>\n",
       "      <th>Dec 03, 2019</th>\n",
       "      <td>bitcoin</td>\n",
       "      <td>7,323.98</td>\n",
       "      <td>7,418.86</td>\n",
       "      <td>7,229.36</td>\n",
       "      <td>7,320.15</td>\n",
       "      <td>14,797,485,769</td>\n",
       "      <td>132,359,942,301</td>\n",
       "    </tr>\n",
       "    <tr>\n",
       "      <th>Dec 02, 2019</th>\n",
       "      <td>bitcoin</td>\n",
       "      <td>7,424.04</td>\n",
       "      <td>7,474.82</td>\n",
       "      <td>7,233.40</td>\n",
       "      <td>7,321.99</td>\n",
       "      <td>17,082,040,706</td>\n",
       "      <td>132,378,982,377</td>\n",
       "    </tr>\n",
       "    <tr>\n",
       "      <th>Dec 01, 2019</th>\n",
       "      <td>bitcoin</td>\n",
       "      <td>7,571.62</td>\n",
       "      <td>7,571.62</td>\n",
       "      <td>7,291.34</td>\n",
       "      <td>7,424.29</td>\n",
       "      <td>18,720,708,479</td>\n",
       "      <td>134,215,145,410</td>\n",
       "    </tr>\n",
       "    <tr>\n",
       "      <th>Nov 30, 2019</th>\n",
       "      <td>bitcoin</td>\n",
       "      <td>7,764.06</td>\n",
       "      <td>7,836.10</td>\n",
       "      <td>7,515.85</td>\n",
       "      <td>7,569.63</td>\n",
       "      <td>17,158,194,786</td>\n",
       "      <td>136,829,391,049</td>\n",
       "    </tr>\n",
       "  </tbody>\n",
       "</table>\n",
       "</div>"
      ],
      "text/plain": [
       "             Currency      Open      High       Low     Close          Volume  \\\n",
       "Date                                                                            \n",
       "Dec 04, 2019  bitcoin  7,320.13  7,539.78  7,170.92  7,252.03  21,664,240,918   \n",
       "Dec 03, 2019  bitcoin  7,323.98  7,418.86  7,229.36  7,320.15  14,797,485,769   \n",
       "Dec 02, 2019  bitcoin  7,424.04  7,474.82  7,233.40  7,321.99  17,082,040,706   \n",
       "Dec 01, 2019  bitcoin  7,571.62  7,571.62  7,291.34  7,424.29  18,720,708,479   \n",
       "Nov 30, 2019  bitcoin  7,764.06  7,836.10  7,515.85  7,569.63  17,158,194,786   \n",
       "\n",
       "                   Market Cap  \n",
       "Date                           \n",
       "Dec 04, 2019  131,143,073,943  \n",
       "Dec 03, 2019  132,359,942,301  \n",
       "Dec 02, 2019  132,378,982,377  \n",
       "Dec 01, 2019  134,215,145,410  \n",
       "Nov 30, 2019  136,829,391,049  "
      ]
     },
     "execution_count": 26,
     "metadata": {},
     "output_type": "execute_result"
    }
   ],
   "source": [
    "# Milena\n",
    "bitcoin_df = coin_df.loc[coin_df['Currency'] == 'bitcoin', :].copy()\n",
    "bitcoin_df = bitcoin_df.set_index(\"Date\")\n",
    "bitcoin_df.head()"
   ]
  },
  {
   "cell_type": "code",
   "execution_count": 27,
   "metadata": {},
   "outputs": [
    {
     "data": {
      "text/html": [
       "<div>\n",
       "<style scoped>\n",
       "    .dataframe tbody tr th:only-of-type {\n",
       "        vertical-align: middle;\n",
       "    }\n",
       "\n",
       "    .dataframe tbody tr th {\n",
       "        vertical-align: top;\n",
       "    }\n",
       "\n",
       "    .dataframe thead th {\n",
       "        text-align: right;\n",
       "    }\n",
       "</style>\n",
       "<table border=\"1\" class=\"dataframe\">\n",
       "  <thead>\n",
       "    <tr style=\"text-align: right;\">\n",
       "      <th></th>\n",
       "      <th>Currency</th>\n",
       "      <th>Open</th>\n",
       "      <th>High</th>\n",
       "      <th>Low</th>\n",
       "      <th>Close</th>\n",
       "      <th>Volume</th>\n",
       "      <th>Market Cap</th>\n",
       "    </tr>\n",
       "    <tr>\n",
       "      <th>Date</th>\n",
       "      <th></th>\n",
       "      <th></th>\n",
       "      <th></th>\n",
       "      <th></th>\n",
       "      <th></th>\n",
       "      <th></th>\n",
       "      <th></th>\n",
       "    </tr>\n",
       "  </thead>\n",
       "  <tbody>\n",
       "    <tr>\n",
       "      <th>Dec 04, 2019</th>\n",
       "      <td>bitcoin</td>\n",
       "      <td>7,320.13</td>\n",
       "      <td>7,539.78</td>\n",
       "      <td>7,170.92</td>\n",
       "      <td>7252.03</td>\n",
       "      <td>21,664,240,918</td>\n",
       "      <td>131,143,073,943</td>\n",
       "    </tr>\n",
       "    <tr>\n",
       "      <th>Dec 03, 2019</th>\n",
       "      <td>bitcoin</td>\n",
       "      <td>7,323.98</td>\n",
       "      <td>7,418.86</td>\n",
       "      <td>7,229.36</td>\n",
       "      <td>7320.15</td>\n",
       "      <td>14,797,485,769</td>\n",
       "      <td>132,359,942,301</td>\n",
       "    </tr>\n",
       "    <tr>\n",
       "      <th>Dec 02, 2019</th>\n",
       "      <td>bitcoin</td>\n",
       "      <td>7,424.04</td>\n",
       "      <td>7,474.82</td>\n",
       "      <td>7,233.40</td>\n",
       "      <td>7321.99</td>\n",
       "      <td>17,082,040,706</td>\n",
       "      <td>132,378,982,377</td>\n",
       "    </tr>\n",
       "    <tr>\n",
       "      <th>Dec 01, 2019</th>\n",
       "      <td>bitcoin</td>\n",
       "      <td>7,571.62</td>\n",
       "      <td>7,571.62</td>\n",
       "      <td>7,291.34</td>\n",
       "      <td>7424.29</td>\n",
       "      <td>18,720,708,479</td>\n",
       "      <td>134,215,145,410</td>\n",
       "    </tr>\n",
       "    <tr>\n",
       "      <th>Nov 30, 2019</th>\n",
       "      <td>bitcoin</td>\n",
       "      <td>7,764.06</td>\n",
       "      <td>7,836.10</td>\n",
       "      <td>7,515.85</td>\n",
       "      <td>7569.63</td>\n",
       "      <td>17,158,194,786</td>\n",
       "      <td>136,829,391,049</td>\n",
       "    </tr>\n",
       "  </tbody>\n",
       "</table>\n",
       "</div>"
      ],
      "text/plain": [
       "             Currency      Open      High       Low    Close          Volume  \\\n",
       "Date                                                                           \n",
       "Dec 04, 2019  bitcoin  7,320.13  7,539.78  7,170.92  7252.03  21,664,240,918   \n",
       "Dec 03, 2019  bitcoin  7,323.98  7,418.86  7,229.36  7320.15  14,797,485,769   \n",
       "Dec 02, 2019  bitcoin  7,424.04  7,474.82  7,233.40  7321.99  17,082,040,706   \n",
       "Dec 01, 2019  bitcoin  7,571.62  7,571.62  7,291.34  7424.29  18,720,708,479   \n",
       "Nov 30, 2019  bitcoin  7,764.06  7,836.10  7,515.85  7569.63  17,158,194,786   \n",
       "\n",
       "                   Market Cap  \n",
       "Date                           \n",
       "Dec 04, 2019  131,143,073,943  \n",
       "Dec 03, 2019  132,359,942,301  \n",
       "Dec 02, 2019  132,378,982,377  \n",
       "Dec 01, 2019  134,215,145,410  \n",
       "Nov 30, 2019  136,829,391,049  "
      ]
     },
     "execution_count": 27,
     "metadata": {},
     "output_type": "execute_result"
    }
   ],
   "source": [
    "# Milena\n",
    "#bitcoin_df['Close'] = pd.to_numeric(bitcoin_df['Close'])\n",
    "\n",
    "bitcoin_df['Close'] = bitcoin_df['Close'].str.replace(',','')\n",
    "bitcoin_df.head()"
   ]
  },
  {
   "cell_type": "code",
   "execution_count": 28,
   "metadata": {
    "scrolled": false
   },
   "outputs": [
    {
     "name": "stdout",
     "output_type": "stream",
     "text": [
      "<class 'pandas.core.frame.DataFrame'>\n",
      "Index: 2412 entries, Dec 04, 2019 to Apr 28, 2013\n",
      "Data columns (total 7 columns):\n",
      " #   Column      Non-Null Count  Dtype  \n",
      "---  ------      --------------  -----  \n",
      " 0   Currency    2412 non-null   object \n",
      " 1   Open        2412 non-null   object \n",
      " 2   High        2412 non-null   object \n",
      " 3   Low         2412 non-null   object \n",
      " 4   Close       2412 non-null   float64\n",
      " 5   Volume      2412 non-null   object \n",
      " 6   Market Cap  2412 non-null   object \n",
      "dtypes: float64(1), object(6)\n",
      "memory usage: 150.8+ KB\n"
     ]
    }
   ],
   "source": [
    "bitcoin_df[\"Close\"] = bitcoin_df.Close.astype(float)\n",
    "bitcoin_df.info()"
   ]
  },
  {
   "cell_type": "code",
   "execution_count": 41,
   "metadata": {},
   "outputs": [],
   "source": [
    "bitcoin_df[\"Close moving mean\"] = bitcoin_df.Close.rolling(30).mean()"
   ]
  },
  {
   "cell_type": "code",
   "execution_count": 42,
   "metadata": {},
   "outputs": [
    {
     "data": {
      "text/html": [
       "<div>\n",
       "<style scoped>\n",
       "    .dataframe tbody tr th:only-of-type {\n",
       "        vertical-align: middle;\n",
       "    }\n",
       "\n",
       "    .dataframe tbody tr th {\n",
       "        vertical-align: top;\n",
       "    }\n",
       "\n",
       "    .dataframe thead th {\n",
       "        text-align: right;\n",
       "    }\n",
       "</style>\n",
       "<table border=\"1\" class=\"dataframe\">\n",
       "  <thead>\n",
       "    <tr style=\"text-align: right;\">\n",
       "      <th></th>\n",
       "      <th>Currency</th>\n",
       "      <th>Open</th>\n",
       "      <th>High</th>\n",
       "      <th>Low</th>\n",
       "      <th>Close</th>\n",
       "      <th>Volume</th>\n",
       "      <th>Market Cap</th>\n",
       "      <th>Close moving mean</th>\n",
       "    </tr>\n",
       "    <tr>\n",
       "      <th>Date</th>\n",
       "      <th></th>\n",
       "      <th></th>\n",
       "      <th></th>\n",
       "      <th></th>\n",
       "      <th></th>\n",
       "      <th></th>\n",
       "      <th></th>\n",
       "      <th></th>\n",
       "    </tr>\n",
       "  </thead>\n",
       "  <tbody>\n",
       "    <tr>\n",
       "      <th>Dec 04, 2019</th>\n",
       "      <td>bitcoin</td>\n",
       "      <td>7,320.13</td>\n",
       "      <td>7,539.78</td>\n",
       "      <td>7,170.92</td>\n",
       "      <td>7252.03</td>\n",
       "      <td>21,664,240,918</td>\n",
       "      <td>131,143,073,943</td>\n",
       "      <td>NaN</td>\n",
       "    </tr>\n",
       "    <tr>\n",
       "      <th>Dec 03, 2019</th>\n",
       "      <td>bitcoin</td>\n",
       "      <td>7,323.98</td>\n",
       "      <td>7,418.86</td>\n",
       "      <td>7,229.36</td>\n",
       "      <td>7320.15</td>\n",
       "      <td>14,797,485,769</td>\n",
       "      <td>132,359,942,301</td>\n",
       "      <td>NaN</td>\n",
       "    </tr>\n",
       "    <tr>\n",
       "      <th>Dec 02, 2019</th>\n",
       "      <td>bitcoin</td>\n",
       "      <td>7,424.04</td>\n",
       "      <td>7,474.82</td>\n",
       "      <td>7,233.40</td>\n",
       "      <td>7321.99</td>\n",
       "      <td>17,082,040,706</td>\n",
       "      <td>132,378,982,377</td>\n",
       "      <td>NaN</td>\n",
       "    </tr>\n",
       "    <tr>\n",
       "      <th>Dec 01, 2019</th>\n",
       "      <td>bitcoin</td>\n",
       "      <td>7,571.62</td>\n",
       "      <td>7,571.62</td>\n",
       "      <td>7,291.34</td>\n",
       "      <td>7424.29</td>\n",
       "      <td>18,720,708,479</td>\n",
       "      <td>134,215,145,410</td>\n",
       "      <td>NaN</td>\n",
       "    </tr>\n",
       "    <tr>\n",
       "      <th>Nov 30, 2019</th>\n",
       "      <td>bitcoin</td>\n",
       "      <td>7,764.06</td>\n",
       "      <td>7,836.10</td>\n",
       "      <td>7,515.85</td>\n",
       "      <td>7569.63</td>\n",
       "      <td>17,158,194,786</td>\n",
       "      <td>136,829,391,049</td>\n",
       "      <td>NaN</td>\n",
       "    </tr>\n",
       "  </tbody>\n",
       "</table>\n",
       "</div>"
      ],
      "text/plain": [
       "             Currency      Open      High       Low    Close          Volume  \\\n",
       "Date                                                                           \n",
       "Dec 04, 2019  bitcoin  7,320.13  7,539.78  7,170.92  7252.03  21,664,240,918   \n",
       "Dec 03, 2019  bitcoin  7,323.98  7,418.86  7,229.36  7320.15  14,797,485,769   \n",
       "Dec 02, 2019  bitcoin  7,424.04  7,474.82  7,233.40  7321.99  17,082,040,706   \n",
       "Dec 01, 2019  bitcoin  7,571.62  7,571.62  7,291.34  7424.29  18,720,708,479   \n",
       "Nov 30, 2019  bitcoin  7,764.06  7,836.10  7,515.85  7569.63  17,158,194,786   \n",
       "\n",
       "                   Market Cap  Close moving mean  \n",
       "Date                                              \n",
       "Dec 04, 2019  131,143,073,943                NaN  \n",
       "Dec 03, 2019  132,359,942,301                NaN  \n",
       "Dec 02, 2019  132,378,982,377                NaN  \n",
       "Dec 01, 2019  134,215,145,410                NaN  \n",
       "Nov 30, 2019  136,829,391,049                NaN  "
      ]
     },
     "execution_count": 42,
     "metadata": {},
     "output_type": "execute_result"
    }
   ],
   "source": [
    "bitcoin_df.head()"
   ]
  },
  {
   "cell_type": "code",
   "execution_count": 46,
   "metadata": {},
   "outputs": [
    {
     "data": {
      "image/png": "[encoded data removed]",
      "text/plain": [
       "<Figure size 432x288 with 1 Axes>"
      ]
     },
     "metadata": {
      "needs_background": "light"
     },
     "output_type": "display_data"
    }
   ],
   "source": [
    "bitcoin_df.Close.plot(label=\"bitcoin Close\")\n",
    "\n",
    "bitcoin_df.loc[:, \"Close moving mean\"].plot(grid=True, label=\"Bitcoin Close rolling mean\")\n",
    "\n",
    "plt.legend()\n",
    "plt.show()\n"
   ]
  }
 ],
 "metadata": {
  "kernelspec": {
   "display_name": "Python 3",
   "language": "python",
   "name": "python3"
  },
  "language_info": {
   "codemirror_mode": {
    "name": "ipython",
    "version": 3
   },
   "file_extension": ".py",
   "mimetype": "text/x-python",
   "name": "python",
   "nbconvert_exporter": "python",
   "pygments_lexer": "ipython3",
   "version": "3.8.5"
  }
 },
 "nbformat": 4,
 "nbformat_minor": 4
}
