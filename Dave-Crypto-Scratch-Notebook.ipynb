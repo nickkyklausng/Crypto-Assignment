{
 "cells": [
  {
   "cell_type": "code",
   "execution_count": 1,
   "metadata": {},
   "outputs": [],
   "source": [
    "#%matplotlib notebook\n",
    "import json\n",
    "import requests\n",
    "#from config import api_key\n",
    "import matplotlib.pyplot as plt\n",
    "import matplotlib\n",
    "import matplotlib.dates as mdates\n",
    "import matplotlib.ticker as mtick\n",
    "import datetime\n",
    "from time import strptime\n",
    "import numpy as np\n",
    "import pandas as pd\n",
    "import os\n",
    "import csv\n",
    "import re"
   ]
  },
  {
   "cell_type": "code",
   "execution_count": 2,
   "metadata": {},
   "outputs": [
    {
     "output_type": "execute_result",
     "data": {
      "text/plain": [
       "      Coin          Date      Open      High       Low     Close  \\\n",
       "0  bitcoin  Feb 28, 2021  46194.02  46716.43  43241.62  45137.77   \n",
       "1  bitcoin  Feb 27, 2021  46344.77  48253.27  45269.03  46188.45   \n",
       "2  bitcoin  Feb 26, 2021  47180.46  48370.79  44454.84  46339.76   \n",
       "3  bitcoin  Feb 25, 2021  49709.08  51948.97  47093.85  47093.85   \n",
       "4  bitcoin  Feb 24, 2021  48835.09  51290.14  47213.50  49705.33   \n",
       "\n",
       "         Volume        Market Cap  \n",
       "0  5.344389e+10  $841,428,977,515  \n",
       "1  4.591095e+10  $860,978,135,421  \n",
       "2  3.509680e+11  $863,752,275,053  \n",
       "3  5.450657e+10  $877,766,126,138  \n",
       "4  6.369552e+10  $926,393,090,751  "
      ],
      "text/html": "<div>\n<style scoped>\n    .dataframe tbody tr th:only-of-type {\n        vertical-align: middle;\n    }\n\n    .dataframe tbody tr th {\n        vertical-align: top;\n    }\n\n    .dataframe thead th {\n        text-align: right;\n    }\n</style>\n<table border=\"1\" class=\"dataframe\">\n  <thead>\n    <tr style=\"text-align: right;\">\n      <th></th>\n      <th>Coin</th>\n      <th>Date</th>\n      <th>Open</th>\n      <th>High</th>\n      <th>Low</th>\n      <th>Close</th>\n      <th>Volume</th>\n      <th>Market Cap</th>\n    </tr>\n  </thead>\n  <tbody>\n    <tr>\n      <th>0</th>\n      <td>bitcoin</td>\n      <td>Feb 28, 2021</td>\n      <td>46194.02</td>\n      <td>46716.43</td>\n      <td>43241.62</td>\n      <td>45137.77</td>\n      <td>5.344389e+10</td>\n      <td>$841,428,977,515</td>\n    </tr>\n    <tr>\n      <th>1</th>\n      <td>bitcoin</td>\n      <td>Feb 27, 2021</td>\n      <td>46344.77</td>\n      <td>48253.27</td>\n      <td>45269.03</td>\n      <td>46188.45</td>\n      <td>4.591095e+10</td>\n      <td>$860,978,135,421</td>\n    </tr>\n    <tr>\n      <th>2</th>\n      <td>bitcoin</td>\n      <td>Feb 26, 2021</td>\n      <td>47180.46</td>\n      <td>48370.79</td>\n      <td>44454.84</td>\n      <td>46339.76</td>\n      <td>3.509680e+11</td>\n      <td>$863,752,275,053</td>\n    </tr>\n    <tr>\n      <th>3</th>\n      <td>bitcoin</td>\n      <td>Feb 25, 2021</td>\n      <td>49709.08</td>\n      <td>51948.97</td>\n      <td>47093.85</td>\n      <td>47093.85</td>\n      <td>5.450657e+10</td>\n      <td>$877,766,126,138</td>\n    </tr>\n    <tr>\n      <th>4</th>\n      <td>bitcoin</td>\n      <td>Feb 24, 2021</td>\n      <td>48835.09</td>\n      <td>51290.14</td>\n      <td>47213.50</td>\n      <td>49705.33</td>\n      <td>6.369552e+10</td>\n      <td>$926,393,090,751</td>\n    </tr>\n  </tbody>\n</table>\n</div>"
     },
     "metadata": {},
     "execution_count": 2
    }
   ],
   "source": [
    "cryptodatafile = 'Data/merged_crypto_data.csv'\n",
    "RawCrypto_df = pd.read_csv(cryptodatafile)\n",
    "\n",
    "RawCrypto_df.head()\n"
   ]
  },
  {
   "cell_type": "code",
   "execution_count": 3,
   "metadata": {},
   "outputs": [
    {
     "output_type": "execute_result",
     "data": {
      "text/plain": [
       "          Coin  Datestamp          Date      Open      High       Low  \\\n",
       "0      Bitcoin 2021-02-28  Feb 28, 2021  46194.02  46716.43  43241.62   \n",
       "1      Bitcoin 2021-02-27  Feb 27, 2021  46344.77  48253.27  45269.03   \n",
       "2      Bitcoin 2021-02-26  Feb 26, 2021  47180.46  48370.79  44454.84   \n",
       "3      Bitcoin 2021-02-25  Feb 25, 2021  49709.08  51948.97  47093.85   \n",
       "4      Bitcoin 2021-02-24  Feb 24, 2021  48835.09  51290.14  47213.50   \n",
       "...        ...        ...           ...       ...       ...       ...   \n",
       "26277    Waves 2016-06-07  Jun 07, 2016      0.77      1.08      0.77   \n",
       "26278    Waves 2016-06-06  Jun 06, 2016      0.71      1.17      0.71   \n",
       "26279    Waves 2016-06-05  Jun 05, 2016      0.59      1.11      0.58   \n",
       "26280    Waves 2016-06-04  Jun 04, 2016      1.09      1.29      0.58   \n",
       "26281    Waves 2016-06-03  Jun 03, 2016      1.29      1.66      0.73   \n",
       "\n",
       "          Close        Volume        Market Cap  \n",
       "0      45137.77  5.344389e+10  $841,428,977,515  \n",
       "1      46188.45  4.591095e+10  $860,978,135,421  \n",
       "2      46339.76  3.509680e+11  $863,752,275,053  \n",
       "3      47093.85  5.450657e+10  $877,766,126,138  \n",
       "4      49705.33  6.369552e+10  $926,393,090,751  \n",
       "...         ...           ...               ...  \n",
       "26277      0.84  4.593200e+04                $0  \n",
       "26278      0.77  9.557300e+04                $0  \n",
       "26279      0.71  4.170000e+04                $0  \n",
       "26280      0.59  4.912000e+03                $0  \n",
       "26281      1.09  5.772100e+04                $0  \n",
       "\n",
       "[26282 rows x 9 columns]"
      ],
      "text/html": "<div>\n<style scoped>\n    .dataframe tbody tr th:only-of-type {\n        vertical-align: middle;\n    }\n\n    .dataframe tbody tr th {\n        vertical-align: top;\n    }\n\n    .dataframe thead th {\n        text-align: right;\n    }\n</style>\n<table border=\"1\" class=\"dataframe\">\n  <thead>\n    <tr style=\"text-align: right;\">\n      <th></th>\n      <th>Coin</th>\n      <th>Datestamp</th>\n      <th>Date</th>\n      <th>Open</th>\n      <th>High</th>\n      <th>Low</th>\n      <th>Close</th>\n      <th>Volume</th>\n      <th>Market Cap</th>\n    </tr>\n  </thead>\n  <tbody>\n    <tr>\n      <th>0</th>\n      <td>Bitcoin</td>\n      <td>2021-02-28</td>\n      <td>Feb 28, 2021</td>\n      <td>46194.02</td>\n      <td>46716.43</td>\n      <td>43241.62</td>\n      <td>45137.77</td>\n      <td>5.344389e+10</td>\n      <td>$841,428,977,515</td>\n    </tr>\n    <tr>\n      <th>1</th>\n      <td>Bitcoin</td>\n      <td>2021-02-27</td>\n      <td>Feb 27, 2021</td>\n      <td>46344.77</td>\n      <td>48253.27</td>\n      <td>45269.03</td>\n      <td>46188.45</td>\n      <td>4.591095e+10</td>\n      <td>$860,978,135,421</td>\n    </tr>\n    <tr>\n      <th>2</th>\n      <td>Bitcoin</td>\n      <td>2021-02-26</td>\n      <td>Feb 26, 2021</td>\n      <td>47180.46</td>\n      <td>48370.79</td>\n      <td>44454.84</td>\n      <td>46339.76</td>\n      <td>3.509680e+11</td>\n      <td>$863,752,275,053</td>\n    </tr>\n    <tr>\n      <th>3</th>\n      <td>Bitcoin</td>\n      <td>2021-02-25</td>\n      <td>Feb 25, 2021</td>\n      <td>49709.08</td>\n      <td>51948.97</td>\n      <td>47093.85</td>\n      <td>47093.85</td>\n      <td>5.450657e+10</td>\n      <td>$877,766,126,138</td>\n    </tr>\n    <tr>\n      <th>4</th>\n      <td>Bitcoin</td>\n      <td>2021-02-24</td>\n      <td>Feb 24, 2021</td>\n      <td>48835.09</td>\n      <td>51290.14</td>\n      <td>47213.50</td>\n      <td>49705.33</td>\n      <td>6.369552e+10</td>\n      <td>$926,393,090,751</td>\n    </tr>\n    <tr>\n      <th>...</th>\n      <td>...</td>\n      <td>...</td>\n      <td>...</td>\n      <td>...</td>\n      <td>...</td>\n      <td>...</td>\n      <td>...</td>\n      <td>...</td>\n      <td>...</td>\n    </tr>\n    <tr>\n      <th>26277</th>\n      <td>Waves</td>\n      <td>2016-06-07</td>\n      <td>Jun 07, 2016</td>\n      <td>0.77</td>\n      <td>1.08</td>\n      <td>0.77</td>\n      <td>0.84</td>\n      <td>4.593200e+04</td>\n      <td>$0</td>\n    </tr>\n    <tr>\n      <th>26278</th>\n      <td>Waves</td>\n      <td>2016-06-06</td>\n      <td>Jun 06, 2016</td>\n      <td>0.71</td>\n      <td>1.17</td>\n      <td>0.71</td>\n      <td>0.77</td>\n      <td>9.557300e+04</td>\n      <td>$0</td>\n    </tr>\n    <tr>\n      <th>26279</th>\n      <td>Waves</td>\n      <td>2016-06-05</td>\n      <td>Jun 05, 2016</td>\n      <td>0.59</td>\n      <td>1.11</td>\n      <td>0.58</td>\n      <td>0.71</td>\n      <td>4.170000e+04</td>\n      <td>$0</td>\n    </tr>\n    <tr>\n      <th>26280</th>\n      <td>Waves</td>\n      <td>2016-06-04</td>\n      <td>Jun 04, 2016</td>\n      <td>1.09</td>\n      <td>1.29</td>\n      <td>0.58</td>\n      <td>0.59</td>\n      <td>4.912000e+03</td>\n      <td>$0</td>\n    </tr>\n    <tr>\n      <th>26281</th>\n      <td>Waves</td>\n      <td>2016-06-03</td>\n      <td>Jun 03, 2016</td>\n      <td>1.29</td>\n      <td>1.66</td>\n      <td>0.73</td>\n      <td>1.09</td>\n      <td>5.772100e+04</td>\n      <td>$0</td>\n    </tr>\n  </tbody>\n</table>\n<p>26282 rows × 9 columns</p>\n</div>"
     },
     "metadata": {},
     "execution_count": 3
    }
   ],
   "source": [
    "# Function to convert \"Date\" to usable / sortable format \n",
    "def monthToNum(shortMonth):\n",
    "    return {\n",
    "            'jan' : 1,\n",
    "            'feb' : 2,\n",
    "            'mar' : 3,\n",
    "            'apr' : 4,\n",
    "            'may' : 5,\n",
    "            'jun' : 6,\n",
    "            'jul' : 7,\n",
    "            'aug' : 8,\n",
    "            'sep' : 9, \n",
    "            'oct' : 10,\n",
    "            'nov' : 11,\n",
    "            'dec' : 12\n",
    "    }[shortMonth]\n",
    "splitdate = pd.DataFrame()\n",
    "splitdate[['month','day','year']] = RawCrypto_df['Date'].str.split(\"\\s|,\", 2, expand=True)\n",
    "splitdate['month'] = splitdate['month'].str.lower()\n",
    "splitdate['month'] = splitdate['month'].apply(monthToNum)\n",
    "\n",
    "# Insert Datestamp YYYMMDD Column for sorting \n",
    "RawCrypto_df.insert(1,'Datestamp',pd.to_datetime(splitdate[['year','month','day']]))\n",
    "RawCrypto_df.dtypes\n",
    "\n",
    "# Recast Coin names as Title-case \n",
    "RawCrypto_df['Coin'] = RawCrypto_df['Coin'].str.title()\n",
    "\n",
    "# Write RawCrypto df to file\n",
    "RawCrypto_df.to_csv('Data/RawCrypto_df.csv')\n",
    "RawCrypto_df"
   ]
  },
  {
   "cell_type": "code",
   "execution_count": null,
   "metadata": {},
   "outputs": [],
   "source": [
    "coinlist = ['Bitcoin','Ethereum','Litecoin','Iota','Monero','Dash']\n",
    "tier1_coinlist = ['bitcoin']\n",
    "tier2_coinlist = ['ethereum','litecoin']\n",
    "tier3_coinlist = ['iota','dash','monero','waves','stratis']\n",
    "colourdict = {'Bitcoin':'dodgerblue',\n",
    "'Ethereum':'orangered',\n",
    "'Litecoin':'orange',\n",
    "'Iota':'greenyellow',\n",
    "'Monero':'forestgreen',\n",
    "'Dash':'darkturquoise'}\n",
    "\n",
    "colourdict['Bitcoin']"
   ]
  },
  {
   "cell_type": "code",
   "execution_count": null,
   "metadata": {},
   "outputs": [],
   "source": [
    "# DEPRECATED\n",
    "# ethereum_df = RawCrypto_df.loc[RawCrypto_df['Coin'] == 'ethereum'].sort_values(by='Datestamp')\n",
    "# litecoin_df = RawCrypto_df.loc[RawCrypto_df['Coin'] == 'litecoin'].sort_values(by='Datestamp')\n",
    "# bitcoin_df = RawCrypto_df.loc[RawCrypto_df['Coin'] == 'bitcoin'].sort_values(by='Datestamp')\n",
    "# iota_df = RawCrypto_df.loc[RawCrypto_df['Coin'] == 'iota'].sort_values(by='Datestamp')\n",
    "# monero_df = RawCrypto_df.loc[RawCrypto_df['Coin'] == 'monero'].sort_values(by='Datestamp')\n",
    "# dash_df = RawCrypto_df.loc[RawCrypto_df['Coin'] == 'dash'].sort_values(by='Datestamp')\n",
    "\n"
   ]
  },
  {
   "cell_type": "code",
   "execution_count": null,
   "metadata": {},
   "outputs": [],
   "source": [
    "# DEPRECATED\n",
    "# # bitcoin_groupbymonth_df = bitcoin_df.groupby(pd.Grouper(key='Datestamp',freq='1M'))\n",
    "# plt.plot(bitcoin_groupbymonth_df[['High']].std())\n",
    "# plt.title('Standard Deviation of Monthly High/Low prices')"
   ]
  },
  {
   "cell_type": "code",
   "execution_count": null,
   "metadata": {},
   "outputs": [],
   "source": [
    "# DEPRECATED\n",
    "# plt.plot(bitcoin_groupbymonth_df[['Low',]].min())\n",
    "# plt.plot(bitcoin_groupbymonth_df[['High']].max())\n",
    "# plt.title('Lowest and Highest Prices By Month')\n",
    "# plt.show()"
   ]
  },
  {
   "cell_type": "code",
   "execution_count": null,
   "metadata": {},
   "outputs": [],
   "source": [
    "# DEPRECATED\n",
    "# delta = ethereum_groupbymonth_df['High'].max()\n",
    "# delta = pd.DataFrame(delta)\n",
    "# delta['Low'] = ethereum_groupbymonth_df['Low'].min()\n",
    "# delta['Delta'] = delta['High'] - delta['Low']\n",
    "# plt.plot(delta['High'], color = 'red')\n",
    "# plt.plot(delta['Low'], color = 'red')\n",
    "# delta['x1'] = delta.index\n",
    "# plt.fill_between(x=delta['x1'], y1=delta['Low'], y2=delta['High'], color = 'red')\n",
    "# plt.title(\"Difference between a month's Highest and Lowest price\")\n"
   ]
  },
  {
   "cell_type": "code",
   "execution_count": null,
   "metadata": {},
   "outputs": [],
   "source": [
    "# First Coin Loop, create GroupBy tables \n",
    "\n",
    "for coin in coinlist:\n",
    "    # create multiple dataframes for coins, sort by date \n",
    "    globals()[f\"{coin}_df\"] = RawCrypto_df.loc[RawCrypto_df['Coin'] == coin].sort_values(by='Datestamp')\n",
    "    # create mutliple groupby tables \n",
    "    exec(f\"{coin}_groupbymonth_df = {coin}_df.groupby(pd.Grouper(key='Datestamp',freq='1M'))\")\n",
    "\n",
    "Bitcoin_groupbymonth_df.mean()"
   ]
  },
  {
   "cell_type": "code",
   "execution_count": null,
   "metadata": {},
   "outputs": [],
   "source": [
    "xticklist = [2014,2015,2016,2017,2018,2019,2020,2021,2022]\n",
    "for coin in coinlist:\n",
    "    \n",
    "    plt.figure()\n",
    "\n",
    "    exec(f\"ax = {coin}_df.plot('Datestamp','Close',label='{coin}',color=colourdict['{coin}'])\")\n",
    "    # exec(f\"plt.plot({coin}_df['Date'],{coin}_df['Close'], color=colourdict['{coin}'])\")\n",
    "    exec(f\"plt.title('{coin} Closing Price Over Time')\")\n",
    "    plt.setp(ax.get_xticklabels(), rotation = 30)\n",
    "    ax.set_xlim(pd.Timestamp('2014-01-01'), pd.Timestamp('2021-03-28'))\n",
    "    plt.tight_layout()\n",
    "\n",
    "    # ax.yaxis.set_major_formatter('${:,.2f}')\n",
    "    fmt = '${x:,.0f}'\n",
    "    tick = mtick.StrMethodFormatter(fmt)\n",
    "    ax.yaxis.set_major_formatter(tick) \n",
    "\n",
    "    exec(f\"ax.yaxis.set_tick_params(which='major', labelcolor='black')\")\n",
    "\n",
    "    # ax.xaxis.set_major_locator(mdates.MonthLocator(interval=12))\n",
    "    # fmt = mdates.DateFormatter(xticklist)\n",
    "    # ax.xaxis.set_major_formatter(fmt)\n",
    "    # exec(f\"formatter = matplotlib.dates.DateFormatter('%Y')\")\n",
    "    \n",
    "    exec(f\"plt.savefig('Output/{coin}_Closing_Price_Over_Time.png',dpi=300)\")\n",
    "\n",
    "plt.show()"
   ]
  },
  {
   "cell_type": "code",
   "execution_count": null,
   "metadata": {},
   "outputs": [],
   "source": [
    "for coin in coinlist:\n",
    "    plt.figure()\n",
    "    exec(f\"plt.plot({coin}_groupbymonth_df[['Close']].mean(), color=colourdict['{coin}'])\")\n",
    "    exec(f\"plt.title('Mean of {coin} Monthly Close prices')\")\n",
    "    plt.xlim([datetime.date(2014,1,1), datetime.date(2021,4,28)])\n",
    "    plt.tight_layout()\n",
    "    plt.ylabel('Price per coin in $ USD')\n",
    "    exec(f\"plt.savefig('Output/{coin}_Average Monthly Price.png',dpi=300)\")"
   ]
  },
  {
   "cell_type": "code",
   "execution_count": null,
   "metadata": {},
   "outputs": [],
   "source": [
    "for coin in coinlist:\n",
    "    plt.figure()\n",
    "    exec(f\"plt.plot({coin}_groupbymonth_df[['High']].std(),color=colourdict['{coin}'])\")\n",
    "    exec(f\"plt.title('Standard Deviation of {coin} Monthly High prices')\")\n",
    "    plt.xlim([datetime.date(2014,1,1), datetime.date(2021,4,28)])\n",
    "    plt.ylabel('Standard Deviation of Prices')\n",
    "    plt.xlabel(\"Timepoint\")\n",
    "    plt.tight_layout()\n",
    "    exec(f\"plt.savefig('Output/{coin}_Standard Deviation of Monthly High Prices.png',dpi=300)\")"
   ]
  },
  {
   "cell_type": "code",
   "execution_count": null,
   "metadata": {},
   "outputs": [],
   "source": [
    "for coin in coinlist:\n",
    "    plt.figure()\n",
    "    exec(f\"plt.plot({coin}_groupbymonth_df[['High']].var(),color=colourdict['{coin}'])\")\n",
    "    exec(f\"plt.title('Variance of {coin} Monthly High/Low prices')\")  \n",
    "    plt.xlim([datetime.date(2014,1,1), datetime.date(2021,4,28)]) \n",
    "    plt.tight_layout()\n",
    "    exec(f\"plt.savefig('Output/{coin} Variance of Monthly High Price.png',dpi=300)\")"
   ]
  },
  {
   "cell_type": "code",
   "execution_count": null,
   "metadata": {},
   "outputs": [],
   "source": [
    "# from matplotlib.ticker import FuncFormatter\n",
    "# def thous(x, pos):\n",
    "#     'The two args are the value and tick position'\n",
    "#     return '$%1.1fK' % (x * 1e-3)\n",
    "# formatter = FuncFormatter(thous)\n",
    "\n",
    "for coin in coinlist:\n",
    "    exec(f\"{coin}_delta = {coin}_groupbymonth_df['High'].max()\")\n",
    "    exec(f\"{coin}_delta = pd.DataFrame({coin}_delta)\")\n",
    "    exec(f\"{coin}_delta['Low'] = {coin}_groupbymonth_df['Low'].min()\")\n",
    "    exec(f\"{coin}_delta['HighLowDelta'] = {coin}_delta['High'] - {coin}_delta['Low']\")\n",
    "    exec(f\"{coin}_delta['Close'] = {coin}_groupbymonth_df['Close'].max()\")\n",
    "    exec(f\"{coin}_delta['CloseDiff'] = {coin}_delta['Close'].diff()\")\n",
    "    exec(f\"{coin}_delta['PctChange'] = ({coin}_delta['CloseDiff']) / ({coin}_delta['Close'] - {coin}_delta['CloseDiff']) * 100 \")    \n",
    "    plt.figure()\n",
    "    exec(f\"plt.plot({coin}_delta['High'], color=colourdict['{coin}'])\")\n",
    "    exec(f\"plt.plot({coin}_delta['Low'], color=colourdict['{coin}'])\")\n",
    "    exec(f\"{coin}_delta['x1'] = {coin}_delta.index\")\n",
    "    exec(f\"plt.fill_between(x={coin}_delta['x1'], y1={coin}_delta['Low'], y2={coin}_delta['High'], color=colourdict['{coin}'])\")\n",
    "    exec(f\"plt.suptitle('{coin} Monthly Highest vs Lowest price')\")\n",
    "    exec(f\"plt.title('Thicker Line means Higher Volatility')\")\n",
    "    \n",
    "    # ax.yaxis.set_major_formatter(formatter)\n",
    "\n",
    "    plt.xlim([datetime.date(2014,1,1), datetime.date(2021,4,28)])\n",
    "    plt.tight_layout()\n",
    "    exec(f\"plt.savefig('Output/{coin} Monthly Highest vs Lowest Price.png',dpi=300)\")\n",
    "# color=colourdict['{coin}'])"
   ]
  },
  {
   "cell_type": "code",
   "execution_count": null,
   "metadata": {},
   "outputs": [],
   "source": [
    "from matplotlib.ticker import FuncFormatter\n",
    "# def thous(x, pos):\n",
    "#     'The two args are the value and tick position'\n",
    "#     return '$%1,0f' % (x * 1e-0)\n",
    "# formatter = FuncFormatter(thous)\n",
    "\n",
    "for coin in coinlist:\n",
    "    exec(f\"{coin}_delta = {coin}_groupbymonth_df['High'].max()\")\n",
    "    exec(f\"{coin}_delta = pd.DataFrame({coin}_delta)\")\n",
    "    exec(f\"{coin}_delta['Low'] = {coin}_groupbymonth_df['Low'].min()\")\n",
    "    exec(f\"{coin}_delta['HighLowDelta'] = {coin}_delta['High'] - {coin}_delta['Low']\")\n",
    "    exec(f\"{coin}_delta['Close'] = {coin}_groupbymonth_df['Close'].max()\")\n",
    "    exec(f\"{coin}_delta['CloseDiff'] = {coin}_delta['Close'].diff()\")\n",
    "    exec(f\"{coin}_delta['PctChange'] = ({coin}_delta['CloseDiff']) / ({coin}_delta['Close'] - {coin}_delta['CloseDiff']) * 100 \")    \n",
    "    plt.figure()\n",
    "    fig, ax = plt.subplots()\n",
    "    exec(f\"plt.plot({coin}_delta['High'], color=colourdict['{coin}'])\")\n",
    "    exec(f\"plt.plot({coin}_delta['Low'], color=colourdict['{coin}'])\")\n",
    "    exec(f\"{coin}_delta['x1'] = {coin}_delta.index\")\n",
    "    exec(f\"plt.fill_between(x={coin}_delta['x1'], y1={coin}_delta['Low'], y2={coin}_delta['High'], color=colourdict['{coin}'])\")\n",
    "    exec(f\"plt.suptitle('{coin} Monthly Highest vs Lowest price')\")\n",
    "    exec(f\"plt.title('Thicker Line means Higher Volatility')\")\n",
    "        \n",
    "    fmt = '${x:,.0f}'\n",
    "    tick = mtick.StrMethodFormatter(fmt)\n",
    "    ax.yaxis.set_major_formatter(tick) \n",
    "\n",
    "    plt.xlim([datetime.date(2014,1,1), datetime.date(2021,4,28)])\n",
    "    plt.tight_layout()\n",
    "    exec(f\"plt.savefig('Output/{coin} Monthly Highest vs Lowest Price.png',dpi=300)\")\n",
    "# color=colourdict['{coin}'])"
   ]
  },
  {
   "cell_type": "code",
   "execution_count": null,
   "metadata": {},
   "outputs": [],
   "source": [
    "PctChange_df = pd.DataFrame()\n",
    "for coin in coinlist:\n",
    "    # copy PctChange colum of various DFs into CoinPctChange Column in One DF\n",
    "    exec(f\"PctChange_df['{coin}PctChange'] = {coin}_delta['PctChange']\")\n",
    "\n",
    "PctChange_df['mean'] = PctChange_df.iloc[:, 0:5].mean(axis=1)\n",
    "\n",
    "\n",
    "for coin in reversed(coinlist):\n",
    "    exec(f\"plt.plot({coin}_delta[['PctChange']],color=colourdict['{coin}'], linewidth =1.2, label='{coin}' )\")\n",
    "\n",
    "    plt.xlabel('Timepoint')\n",
    "    plt.ylabel('% Increase / Decrease')\n",
    "    plt.xlim([datetime.date(2014,1,1), datetime.date(2021,4,28)])\n",
    "    plt.ylim(-60,350)\n",
    "    plt.axhline(y=0, color = 'black', linewidth = .5)\n",
    "    \n",
    "\n",
    "    plt.tight_layout()\n",
    "\n",
    "exec(f\"plt.title('% Change of Monthly Mean prices')\")\n",
    "plt.plot(PctChange_df['mean'], linewidth=3.5, label='Mean of % Change')\n",
    "plt.legend(loc=\"upper left\")\n",
    "exec(f\"plt.savefig('Output/All Coins - Percent Change in Monthly Prices.png',dpi=300)\")\n",
    "    "
   ]
  },
  {
   "cell_type": "code",
   "execution_count": null,
   "metadata": {},
   "outputs": [],
   "source": [
    "window = 21\n",
    "dpy = 252\n",
    "ann_factor = dpy / window\n",
    "\n",
    "for coin in reversed(coinlist):\n",
    "    exec(f\"{coin}Log_df = pd.DataFrame()\")\n",
    "    exec(f\"{coin}Log_df['Datestamp'] = {coin}_df['Datestamp']\")\n",
    "    exec(f\"{coin}Log_df['Close'] = {coin}_df['Close']\")\n",
    "    exec(f\"{coin}Log_df = {coin}Log_df.set_index(['Datestamp'])\")\n",
    "    exec(f\"{coin}Log_df['Close'] = np.log({coin}Log_df['Close'])\")\n",
    "\n",
    "    exec(f\"{coin}Log_df['LogRtn'] = {coin}Log_df[['Close']].diff()\")\n",
    "    exec(f\"{coin}Log_df['real_var'] = np.square({coin}Log_df['LogRtn']).rolling(window).sum() * ann_factor\")\n",
    "    exec(f\"{coin}Log_df['real_vol'] = np.sqrt({coin}Log_df['real_var'])\")\n",
    "\n",
    "    exec(f\"plt.plot({coin}Log_df['real_vol'], color=colourdict['{coin}'])\")\n",
    "plt.show()"
   ]
  },
  {
   "cell_type": "code",
   "execution_count": null,
   "metadata": {},
   "outputs": [],
   "source": [
    "for coin in coinlist:\n",
    "    exec(f\"{coin}_groupbymonth_df['Volume'].sum().plot(label='{coin}', color=colourdict['{coin}'])\")\n",
    "    plt.title('Volume of Trades Each Month - Trillions')\n",
    "    plt.ylabel('Number of Trades in Trillions')\n",
    "    plt.xlim([datetime.date(2016,1,1), datetime.date(2021,3,14)])\n",
    "    # plt.gca.legend((coinlist))\n",
    "    plt.legend(loc=\"upper left\")\n",
    "    plt.tight_layout()\n",
    "    exec(f\"plt.savefig('Output/All Coins - Volume of Trades Per Month.png',dpi=300)\")\n",
    "plt.show()"
   ]
  },
  {
   "cell_type": "code",
   "execution_count": null,
   "metadata": {},
   "outputs": [],
   "source": [
    "for coin in coinlist:\n",
    "    exec(f\"{coin}_groupbymonth_df['Volume'].std().plot(label='{coin}', color=colourdict['{coin}'])\")\n",
    "    plt.title('Std Dev of Trades Each Month')\n",
    "    plt.ylabel('Std Dev of Trades')\n",
    "    plt.xlim([datetime.date(2016,1,1), datetime.date(2021,3,14)])\n",
    "    # plt.gca.legend((coinlist))\n",
    "    plt.legend(loc=\"upper left\")\n",
    "    plt.tight_layout()\n",
    "    exec(f\"plt.savefig('Output/All Coins - Standard Deviation of Trades Per Month.png',dpi=300)\")\n",
    "plt.show()"
   ]
  },
  {
   "cell_type": "code",
   "execution_count": null,
   "metadata": {},
   "outputs": [],
   "source": [
    "#     # exec(f\"np.log({coin}_df[['Close']]).diff()\")\n",
    "# for coin in coinlist:\n",
    "#     plt.figure()\n",
    "#     exec(f\"plt.plot(np.log({coin}_groupbymonth_df[['High']].std()))\")\n",
    "#     exec(f\"plt.title('Log Standard Deviation of {coin} Monthly High prices')\")\n"
   ]
  },
  {
   "cell_type": "code",
   "execution_count": null,
   "metadata": {},
   "outputs": [],
   "source": []
  },
  {
   "cell_type": "code",
   "execution_count": null,
   "metadata": {},
   "outputs": [],
   "source": []
  },
  {
   "cell_type": "code",
   "execution_count": null,
   "metadata": {},
   "outputs": [],
   "source": [
    "for coin in reversed(coinlist):\n",
    "    plt.figure\n",
    "    exec(f\"plt.plot(np.log({coin}_groupbymonth_df[['High']].std()),label={'coin'}, color=colourdict['{coin}'])\")\n",
    "    plt.title('Log of Std Deviation of Coin Prices')\n",
    "    ax.set_xlim(pd.Timestamp('2014-01-01'), pd.Timestamp('2021-03-28'))  \n",
    "    plt.legend(loc=\"upper left\")\n",
    "    exec(f\"plt.savefig('Output/All Coins - Log Return of Standard Deviation of Coin Prices.png',dpi=300)\")\n",
    "plt.show()"
   ]
  },
  {
   "cell_type": "code",
   "execution_count": null,
   "metadata": {},
   "outputs": [],
   "source": [
    "for coin in coinlist:\n",
    "    plt.figure\n",
    "    exec(f\"plt.plot(np.log({coin}_groupbymonth_df[['High']].max()))\")\n",
    "    plt.title('Log of Monthly Max Coin Prices')\n",
    "    ax.set_xlim(pd.Timestamp('2014-01-01'), pd.Timestamp('2021-03-28'))  "
   ]
  },
  {
   "cell_type": "code",
   "execution_count": null,
   "metadata": {},
   "outputs": [],
   "source": [
    "\n",
    "\n"
   ]
  },
  {
   "cell_type": "code",
   "execution_count": null,
   "metadata": {},
   "outputs": [],
   "source": []
  },
  {
   "cell_type": "code",
   "execution_count": null,
   "metadata": {},
   "outputs": [],
   "source": []
  },
  {
   "cell_type": "code",
   "execution_count": null,
   "metadata": {},
   "outputs": [],
   "source": []
  }
 ],
 "metadata": {
  "kernelspec": {
   "display_name": "Python 3",
   "language": "python",
   "name": "python3"
  },
  "language_info": {
   "codemirror_mode": {
    "name": "ipython",
    "version": 3
   },
   "file_extension": ".py",
   "mimetype": "text/x-python",
   "name": "python",
   "nbconvert_exporter": "python",
   "pygments_lexer": "ipython3",
   "version": "3.8.5-final"
  }
 },
 "nbformat": 4,
 "nbformat_minor": 4
}