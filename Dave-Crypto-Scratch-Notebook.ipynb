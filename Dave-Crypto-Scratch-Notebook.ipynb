{
 "cells": [
  {
   "cell_type": "code",
   "execution_count": 1,
   "metadata": {},
   "outputs": [],
   "source": [
    "#%matplotlib notebook\n",
    "import json\n",
    "import requests\n",
    "#from config import api_key\n",
    "import matplotlib.pyplot as plt\n",
    "import datetime\n",
    "from time import strptime\n",
    "import numpy as np\n",
    "import pandas as pd\n",
    "import os\n",
    "import csv\n",
    "import re"
   ]
  },
  {
   "cell_type": "code",
   "execution_count": 2,
   "metadata": {},
   "outputs": [
    {
     "output_type": "execute_result",
     "data": {
      "text/plain": [
       "      Coin          Date      Open      High       Low     Close  \\\n",
       "0  bitcoin  Feb 28, 2021  46194.02  46716.43  43241.62  45137.77   \n",
       "1  bitcoin  Feb 27, 2021  46344.77  48253.27  45269.03  46188.45   \n",
       "2  bitcoin  Feb 26, 2021  47180.46  48370.79  44454.84  46339.76   \n",
       "3  bitcoin  Feb 25, 2021  49709.08  51948.97  47093.85  47093.85   \n",
       "4  bitcoin  Feb 24, 2021  48835.09  51290.14  47213.50  49705.33   \n",
       "\n",
       "         Volume        Market Cap  \n",
       "0  5.344389e+10  $841,428,977,515  \n",
       "1  4.591095e+10  $860,978,135,421  \n",
       "2  3.509680e+11  $863,752,275,053  \n",
       "3  5.450657e+10  $877,766,126,138  \n",
       "4  6.369552e+10  $926,393,090,751  "
      ],
      "text/html": "<div>\n<style scoped>\n    .dataframe tbody tr th:only-of-type {\n        vertical-align: middle;\n    }\n\n    .dataframe tbody tr th {\n        vertical-align: top;\n    }\n\n    .dataframe thead th {\n        text-align: right;\n    }\n</style>\n<table border=\"1\" class=\"dataframe\">\n  <thead>\n    <tr style=\"text-align: right;\">\n      <th></th>\n      <th>Coin</th>\n      <th>Date</th>\n      <th>Open</th>\n      <th>High</th>\n      <th>Low</th>\n      <th>Close</th>\n      <th>Volume</th>\n      <th>Market Cap</th>\n    </tr>\n  </thead>\n  <tbody>\n    <tr>\n      <th>0</th>\n      <td>bitcoin</td>\n      <td>Feb 28, 2021</td>\n      <td>46194.02</td>\n      <td>46716.43</td>\n      <td>43241.62</td>\n      <td>45137.77</td>\n      <td>5.344389e+10</td>\n      <td>$841,428,977,515</td>\n    </tr>\n    <tr>\n      <th>1</th>\n      <td>bitcoin</td>\n      <td>Feb 27, 2021</td>\n      <td>46344.77</td>\n      <td>48253.27</td>\n      <td>45269.03</td>\n      <td>46188.45</td>\n      <td>4.591095e+10</td>\n      <td>$860,978,135,421</td>\n    </tr>\n    <tr>\n      <th>2</th>\n      <td>bitcoin</td>\n      <td>Feb 26, 2021</td>\n      <td>47180.46</td>\n      <td>48370.79</td>\n      <td>44454.84</td>\n      <td>46339.76</td>\n      <td>3.509680e+11</td>\n      <td>$863,752,275,053</td>\n    </tr>\n    <tr>\n      <th>3</th>\n      <td>bitcoin</td>\n      <td>Feb 25, 2021</td>\n      <td>49709.08</td>\n      <td>51948.97</td>\n      <td>47093.85</td>\n      <td>47093.85</td>\n      <td>5.450657e+10</td>\n      <td>$877,766,126,138</td>\n    </tr>\n    <tr>\n      <th>4</th>\n      <td>bitcoin</td>\n      <td>Feb 24, 2021</td>\n      <td>48835.09</td>\n      <td>51290.14</td>\n      <td>47213.50</td>\n      <td>49705.33</td>\n      <td>6.369552e+10</td>\n      <td>$926,393,090,751</td>\n    </tr>\n  </tbody>\n</table>\n</div>"
     },
     "metadata": {},
     "execution_count": 2
    }
   ],
   "source": [
    "cryptodatafile = 'merged_crypto_data.csv'\n",
    "RawCrypto_df = pd.read_csv(cryptodatafile)\n",
    "\n",
    "RawCrypto_df.head()\n"
   ]
  },
  {
   "cell_type": "code",
   "execution_count": 3,
   "metadata": {},
   "outputs": [
    {
     "output_type": "execute_result",
     "data": {
      "text/plain": [
       "Coin                  object\n",
       "Datestamp     datetime64[ns]\n",
       "Date                  object\n",
       "Open                 float64\n",
       "High                 float64\n",
       "Low                  float64\n",
       "Close                float64\n",
       "Volume               float64\n",
       "Market Cap            object\n",
       "dtype: object"
      ]
     },
     "metadata": {},
     "execution_count": 3
    }
   ],
   "source": [
    "# Function to convert \"Date\" to usable / sortable format \n",
    "def monthToNum(shortMonth):\n",
    "    return {\n",
    "            'jan' : 1,\n",
    "            'feb' : 2,\n",
    "            'mar' : 3,\n",
    "            'apr' : 4,\n",
    "            'may' : 5,\n",
    "            'jun' : 6,\n",
    "            'jul' : 7,\n",
    "            'aug' : 8,\n",
    "            'sep' : 9, \n",
    "            'oct' : 10,\n",
    "            'nov' : 11,\n",
    "            'dec' : 12\n",
    "    }[shortMonth]\n",
    "splitdate = pd.DataFrame()\n",
    "splitdate[['month','day','year']] = RawCrypto_df['Date'].str.split(\"\\s|,\", 2, expand=True)\n",
    "splitdate['month'] = splitdate['month'].str.lower()\n",
    "splitdate['month'] = splitdate['month'].apply(monthToNum)\n",
    "\n",
    "# Insert Datestamp YYYMMDD Column for sorting \n",
    "RawCrypto_df.insert(1,'Datestamp',pd.to_datetime(splitdate[['year','month','day']]))\n",
    "RawCrypto_df.dtypes"
   ]
  },
  {
   "cell_type": "code",
   "execution_count": null,
   "metadata": {},
   "outputs": [],
   "source": [
    "# DEPRECATED\r\n",
    "# ethereum_df = RawCrypto_df.loc[RawCrypto_df['Coin'] == 'ethereum'].sort_values(by='Datestamp')\r\n",
    "# litecoin_df = RawCrypto_df.loc[RawCrypto_df['Coin'] == 'litecoin'].sort_values(by='Datestamp')\r\n",
    "# bitcoin_df = RawCrypto_df.loc[RawCrypto_df['Coin'] == 'bitcoin'].sort_values(by='Datestamp')\r\n",
    "# iota_df = RawCrypto_df.loc[RawCrypto_df['Coin'] == 'iota'].sort_values(by='Datestamp')\r\n",
    "# monero_df = RawCrypto_df.loc[RawCrypto_df['Coin'] == 'monero'].sort_values(by='Datestamp')\r\n",
    "# dash_df = RawCrypto_df.loc[RawCrypto_df['Coin'] == 'dash'].sort_values(by='Datestamp')\r\n",
    "\r\n"
   ]
  },
  {
   "cell_type": "code",
   "execution_count": null,
   "metadata": {},
   "outputs": [],
   "source": [
    "coinlist = ['bitcoin','ethereum','litecoin','iota','monero','dash','stratis']\n",
    "tier1_coinlist = ['bitcoin']\n",
    "tier2_coinlist = ['ethereum','litecoin']\n",
    "tier3_coinlist = ['iota','dash','monero','waves','stratis']"
   ]
  },
  {
   "cell_type": "code",
   "execution_count": null,
   "metadata": {},
   "outputs": [],
   "source": [
    "for coin in coinlist:\n",
    "    plt.figure()\n",
    "    exec(f\"{coin}_df.plot('Date','Close')\")\n",
    "    exec(f\"plt.title('{coin} closing Price Over Time)')\")\n",
    "\n",
    "plt.show()"
   ]
  },
  {
   "cell_type": "code",
   "execution_count": null,
   "metadata": {},
   "outputs": [],
   "source": [
    "# DEPRECATED\n",
    "# # bitcoin_groupbymonth_df = bitcoin_df.groupby(pd.Grouper(key='Datestamp',freq='1M'))\n",
    "# plt.plot(bitcoin_groupbymonth_df[['High']].std())\n",
    "# plt.title('Standard Deviation of Monthly High/Low prices')"
   ]
  },
  {
   "cell_type": "code",
   "execution_count": null,
   "metadata": {},
   "outputs": [],
   "source": [
    "# DEPRECATED\n",
    "# plt.plot(bitcoin_groupbymonth_df[['Low',]].min())\n",
    "# plt.plot(bitcoin_groupbymonth_df[['High']].max())\n",
    "# plt.title('Lowest and Highest Prices By Month')\n",
    "# plt.show()"
   ]
  },
  {
   "cell_type": "code",
   "execution_count": null,
   "metadata": {},
   "outputs": [],
   "source": [
    "# DEPRECATED\r\n",
    "# delta = ethereum_groupbymonth_df['High'].max()\r\n",
    "# delta = pd.DataFrame(delta)\r\n",
    "# delta['Low'] = ethereum_groupbymonth_df['Low'].min()\r\n",
    "# delta['Delta'] = delta['High'] - delta['Low']\r\n",
    "# plt.plot(delta['High'], color = 'red')\r\n",
    "# plt.plot(delta['Low'], color = 'red')\r\n",
    "# delta['x1'] = delta.index\r\n",
    "# plt.fill_between(x=delta['x1'], y1=delta['Low'], y2=delta['High'], color = 'red')\r\n",
    "# plt.title(\"Difference between a month's Highest and Lowest price\")\r\n"
   ]
  },
  {
   "cell_type": "code",
   "execution_count": null,
   "metadata": {},
   "outputs": [],
   "source": [
    "# First Coin Loop, create GroupBy tables \n",
    "\n",
    "for coin in coinlist:\n",
    "    # create multiple dataframes for coins, sort by date \n",
    "    globals()[f\"{coin}_df\"] = RawCrypto_df.loc[RawCrypto_df['Coin'] == coin].sort_values(by='Datestamp')\n",
    "    # create mutliple groupby tables \n",
    "    exec(f\"{coin}_groupbymonth_df = {coin}_df.groupby(pd.Grouper(key='Datestamp',freq='1M'))\")\n",
    "\n",
    "bitcoin_groupbymonth_df.mean()"
   ]
  },
  {
   "cell_type": "code",
   "execution_count": null,
   "metadata": {},
   "outputs": [],
   "source": [
    "for coin in coinlist:\n",
    "    plt.figure()\n",
    "    exec(f\"plt.plot({coin}_groupbymonth_df[['Close']].mean())\")\n",
    "    exec(f\"plt.title('Mean of {coin} Monthly Close prices')\")"
   ]
  },
  {
   "cell_type": "code",
   "execution_count": null,
   "metadata": {},
   "outputs": [],
   "source": [
    "for coin in coinlist:\n",
    "    plt.figure()\n",
    "    exec(f\"plt.plot({coin}_groupbymonth_df[['High']].std())\")\n",
    "    exec(f\"plt.title('Standard Deviation of {coin} Monthly High prices')\")"
   ]
  },
  {
   "cell_type": "code",
   "execution_count": null,
   "metadata": {},
   "outputs": [],
   "source": [
    "for coin in coinlist:\n",
    "    plt.figure()\n",
    "    exec(f\"plt.plot({coin}_groupbymonth_df[['High']].var())\")\n",
    "    exec(f\"plt.title('Variance of {coin} Monthly High/Low prices')\")  "
   ]
  },
  {
   "cell_type": "code",
   "execution_count": null,
   "metadata": {},
   "outputs": [],
   "source": [
    "for coin in coinlist:\n",
    "    exec(f\"{coin}_delta = {coin}_groupbymonth_df['High'].max()\")\n",
    "    exec(f\"{coin}_delta = pd.DataFrame({coin}_delta)\")\n",
    "    exec(f\"{coin}_delta['Low'] = {coin}_groupbymonth_df['Low'].min()\")\n",
    "    exec(f\"{coin}_delta['HighLowDelta'] = {coin}_delta['High'] - {coin}_delta['Low']\")\n",
    "    exec(f\"{coin}_delta['Close'] = {coin}_groupbymonth_df['Close'].max()\")\n",
    "    exec(f\"{coin}_delta['CloseDiff'] = {coin}_delta['Close'].diff()\")\n",
    "    exec(f\"{coin}_delta['PctChange'] = ({coin}_delta['CloseDiff']) / ({coin}_delta['Close'] - {coin}_delta['CloseDiff']) * 100 \")    \n",
    "    plt.figure()\n",
    "    exec(f\"plt.plot({coin}_delta['High'], color = 'red')\")\n",
    "    exec(f\"plt.plot({coin}_delta['Low'], color = 'red')\")\n",
    "    exec(f\"{coin}_delta['x1'] = {coin}_delta.index\")\n",
    "    exec(f\"plt.fill_between(x={coin}_delta['x1'], y1={coin}_delta['Low'], y2={coin}_delta['High'], color = 'red')\")\n",
    "    exec(f\"plt.suptitle('{coin} Monthly Highest vs Lowest price')\")\n",
    "    exec(f\"plt.title('Thicker Line means Higher Volatility')\")\n"
   ]
  },
  {
   "cell_type": "code",
   "execution_count": null,
   "metadata": {},
   "outputs": [],
   "source": [
    "for coin in coinlist:\n",
    "    plt.figure()\n",
    "    exec(f\"plt.plot({coin}_delta[['PctChange']])\")\n",
    "    exec(f\"plt.title('% Change of {coin} Monthly Mean Close prices')\")\n",
    "    plt.xlabel('Timepoint')\n",
    "    plt.ylabel('% Increase / Decrease')\n",
    "    # plt.ylim(-60,250)\n",
    "    plt.axhline(y=0, color = 'black', linewidth = .5)"
   ]
  },
  {
   "cell_type": "code",
   "execution_count": null,
   "metadata": {},
   "outputs": [],
   "source": [
    "window = 21\n",
    "dpy = 252\n",
    "ann_factor = dpy / window\n",
    "\n",
    "for coin in coinlist:\n",
    "    exec(f\"{coin}Log_df = pd.DataFrame()\")\n",
    "    exec(f\"{coin}Log_df['Datestamp'] = {coin}_df['Datestamp']\")\n",
    "    exec(f\"{coin}Log_df['Close'] = {coin}_df['Close']\")\n",
    "    exec(f\"{coin}Log_df = {coin}Log_df.set_index(['Datestamp'])\")\n",
    "\n",
    "    exec(f\"{coin}Log_df['LogRtn'] = ({coin}Log_df[['Close']]np.log).diff()\")\n",
    "    exec(f\"{coin}Log_df['real_var'] = np.square({coin}Log_df['LogRtn']).rolling(window).sum() * ann_factor\")\n",
    "    exec(f\"{coin}Log_df['real_vol'] = np.sqrt({coin}Log_df['real_var'])\")\n",
    "\n",
    "    exec(f\"plt.plot({coin}Log_df['real_vol'])\")\n",
    "plt.show()"
   ]
  },
  {
   "cell_type": "code",
   "execution_count": null,
   "metadata": {},
   "outputs": [],
   "source": [
    "for coin in coinlist:\n",
    "    exec(f\"{coin}_groupbymonth_df['Volume'].sum().plot()\")\n",
    "    plt.title('Volume of Trades Each Month - Trillions')\n",
    "    plt.ylabel('Number of Trades in Trillions')"
   ]
  },
  {
   "cell_type": "code",
   "execution_count": null,
   "metadata": {},
   "outputs": [],
   "source": [
    "    # exec(f\"np.log({coin}_df[['Close']]).diff()\")\n",
    "\n",
    "for coin in coinlist:\n",
    "    plt.figure()\n",
    "    exec(f\"plt.plot(np.log({coin}_groupbymonth_df[['High']].std()))\")\n",
    "    exec(f\"plt.title('Log Standard Deviation of {coin} Monthly High prices')\")\n"
   ]
  },
  {
   "cell_type": "code",
   "execution_count": null,
   "metadata": {},
   "outputs": [],
   "source": []
  },
  {
   "cell_type": "code",
   "execution_count": null,
   "metadata": {},
   "outputs": [],
   "source": [
    "for coin in coinlist:\n",
    "    plt.figure\n",
    "    exec(f\"plt.plot(np.log({coin}_groupbymonth_df[['High']].std()))\")\n",
    "    plt.title('Log of Std Deviation of Coin Prices')"
   ]
  },
  {
   "cell_type": "code",
   "execution_count": null,
   "metadata": {},
   "outputs": [],
   "source": [
    "for coin in coinlist:\n",
    "    plt.figure\n",
    "    exec(f\"plt.plot(np.log({coin}_groupbymonth_df[['High']].max()))\")\n",
    "    plt.title('Log of Monthly Max Coin Prices')"
   ]
  },
  {
   "cell_type": "code",
   "execution_count": null,
   "metadata": {},
   "outputs": [],
   "source": [
    "low_memory = False\n",
    "\n",
    "reddit_df = pd.read_csv('d:/DataAnalytics/bitcoin_reddit_all.csv')\n",
    "reddit_df['author'].count()\n",
    "\n"
   ]
  },
  {
   "cell_type": "code",
   "execution_count": null,
   "metadata": {},
   "outputs": [],
   "source": [
    "reddit_df['author'].nunique()"
   ]
  },
  {
   "cell_type": "code",
   "execution_count": null,
   "metadata": {},
   "outputs": [],
   "source": []
  }
 ],
 "metadata": {
  "kernelspec": {
   "display_name": "Python 3",
   "language": "python",
   "name": "python3"
  },
  "language_info": {
   "codemirror_mode": {
    "name": "ipython",
    "version": 3
   },
   "file_extension": ".py",
   "mimetype": "text/x-python",
   "name": "python",
   "nbconvert_exporter": "python",
   "pygments_lexer": "ipython3",
   "version": "3.8.5-final"
  }
 },
 "nbformat": 4,
 "nbformat_minor": 4
}