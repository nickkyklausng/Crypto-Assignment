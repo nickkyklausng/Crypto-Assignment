{
 "cells": [
  {
   "cell_type": "code",
   "execution_count": 10,
   "metadata": {},
   "outputs": [],
   "source": [
    "#%matplotlib notebook\n",
    "import json\n",
    "import requests\n",
    "#from config import api_key\n",
    "import matplotlib.pyplot as plt\n",
    "import datetime\n",
    "from time import strptime\n",
    "import numpy as np\n",
    "import pandas as pd\n",
    "import os\n",
    "import csv\n",
    "import re"
   ]
  },
  {
   "cell_type": "code",
   "execution_count": 3,
   "metadata": {},
   "outputs": [
    {
     "output_type": "execute_result",
     "data": {
      "text/plain": [
       "          Coin          Date      Open      High       Low     Close  \\\n",
       "0      bitcoin  Mar 02, 2021  49612.11  50127.51  47228.85  48378.99   \n",
       "1      bitcoin  Mar 01, 2021  45159.50  49784.02  45115.09  49631.24   \n",
       "2      bitcoin  Feb 28, 2021  46194.02  46716.43  43241.62  45137.77   \n",
       "3      bitcoin  Feb 27, 2021  46344.77  48253.27  45269.03  46188.45   \n",
       "4      bitcoin  Feb 26, 2021  47180.46  48370.79  44454.84  46339.76   \n",
       "...        ...           ...       ...       ...       ...       ...   \n",
       "26303    waves  Jun 07, 2016      0.77      1.08      0.77      0.84   \n",
       "26304    waves  Jun 06, 2016      0.71      1.17      0.71      0.77   \n",
       "26305    waves  Jun 05, 2016      0.59      1.11      0.58      0.71   \n",
       "26306    waves  Jun 04, 2016      1.09      1.29      0.58      0.59   \n",
       "26307    waves  Jun 03, 2016      1.29      1.66      0.73      1.09   \n",
       "\n",
       "             Volume        Market Cap  \n",
       "0       47530897720  $901,933,683,269  \n",
       "1       53891300112  $925,235,527,882  \n",
       "2       53443887451  $841,428,977,515  \n",
       "3       45910946382  $860,978,135,421  \n",
       "4      350967941479  $863,752,275,053  \n",
       "...             ...               ...  \n",
       "26303         45932                $0  \n",
       "26304         95573                $0  \n",
       "26305         41700                $0  \n",
       "26306          4912                $0  \n",
       "26307         57721                $0  \n",
       "\n",
       "[26308 rows x 8 columns]"
      ],
      "text/html": "<div>\n<style scoped>\n    .dataframe tbody tr th:only-of-type {\n        vertical-align: middle;\n    }\n\n    .dataframe tbody tr th {\n        vertical-align: top;\n    }\n\n    .dataframe thead th {\n        text-align: right;\n    }\n</style>\n<table border=\"1\" class=\"dataframe\">\n  <thead>\n    <tr style=\"text-align: right;\">\n      <th></th>\n      <th>Coin</th>\n      <th>Date</th>\n      <th>Open</th>\n      <th>High</th>\n      <th>Low</th>\n      <th>Close</th>\n      <th>Volume</th>\n      <th>Market Cap</th>\n    </tr>\n  </thead>\n  <tbody>\n    <tr>\n      <th>0</th>\n      <td>bitcoin</td>\n      <td>Mar 02, 2021</td>\n      <td>49612.11</td>\n      <td>50127.51</td>\n      <td>47228.85</td>\n      <td>48378.99</td>\n      <td>47530897720</td>\n      <td>$901,933,683,269</td>\n    </tr>\n    <tr>\n      <th>1</th>\n      <td>bitcoin</td>\n      <td>Mar 01, 2021</td>\n      <td>45159.50</td>\n      <td>49784.02</td>\n      <td>45115.09</td>\n      <td>49631.24</td>\n      <td>53891300112</td>\n      <td>$925,235,527,882</td>\n    </tr>\n    <tr>\n      <th>2</th>\n      <td>bitcoin</td>\n      <td>Feb 28, 2021</td>\n      <td>46194.02</td>\n      <td>46716.43</td>\n      <td>43241.62</td>\n      <td>45137.77</td>\n      <td>53443887451</td>\n      <td>$841,428,977,515</td>\n    </tr>\n    <tr>\n      <th>3</th>\n      <td>bitcoin</td>\n      <td>Feb 27, 2021</td>\n      <td>46344.77</td>\n      <td>48253.27</td>\n      <td>45269.03</td>\n      <td>46188.45</td>\n      <td>45910946382</td>\n      <td>$860,978,135,421</td>\n    </tr>\n    <tr>\n      <th>4</th>\n      <td>bitcoin</td>\n      <td>Feb 26, 2021</td>\n      <td>47180.46</td>\n      <td>48370.79</td>\n      <td>44454.84</td>\n      <td>46339.76</td>\n      <td>350967941479</td>\n      <td>$863,752,275,053</td>\n    </tr>\n    <tr>\n      <th>...</th>\n      <td>...</td>\n      <td>...</td>\n      <td>...</td>\n      <td>...</td>\n      <td>...</td>\n      <td>...</td>\n      <td>...</td>\n      <td>...</td>\n    </tr>\n    <tr>\n      <th>26303</th>\n      <td>waves</td>\n      <td>Jun 07, 2016</td>\n      <td>0.77</td>\n      <td>1.08</td>\n      <td>0.77</td>\n      <td>0.84</td>\n      <td>45932</td>\n      <td>$0</td>\n    </tr>\n    <tr>\n      <th>26304</th>\n      <td>waves</td>\n      <td>Jun 06, 2016</td>\n      <td>0.71</td>\n      <td>1.17</td>\n      <td>0.71</td>\n      <td>0.77</td>\n      <td>95573</td>\n      <td>$0</td>\n    </tr>\n    <tr>\n      <th>26305</th>\n      <td>waves</td>\n      <td>Jun 05, 2016</td>\n      <td>0.59</td>\n      <td>1.11</td>\n      <td>0.58</td>\n      <td>0.71</td>\n      <td>41700</td>\n      <td>$0</td>\n    </tr>\n    <tr>\n      <th>26306</th>\n      <td>waves</td>\n      <td>Jun 04, 2016</td>\n      <td>1.09</td>\n      <td>1.29</td>\n      <td>0.58</td>\n      <td>0.59</td>\n      <td>4912</td>\n      <td>$0</td>\n    </tr>\n    <tr>\n      <th>26307</th>\n      <td>waves</td>\n      <td>Jun 03, 2016</td>\n      <td>1.29</td>\n      <td>1.66</td>\n      <td>0.73</td>\n      <td>1.09</td>\n      <td>57721</td>\n      <td>$0</td>\n    </tr>\n  </tbody>\n</table>\n<p>26308 rows × 8 columns</p>\n</div>"
     },
     "metadata": {},
     "execution_count": 3
    }
   ],
   "source": [
    "cryptodatafile = 'merged_crypto_data.csv'\n",
    "RawCrypto_df = pd.read_csv(cryptodatafile)\n",
    "\n",
    "RawCrypto_df\n"
   ]
  },
  {
   "cell_type": "code",
   "execution_count": 19,
   "metadata": {},
   "outputs": [
    {
     "output_type": "execute_result",
     "data": {
      "text/plain": [
       "       month day   year\n",
       "0          3  02   2021\n",
       "1          3  01   2021\n",
       "2          2  28   2021\n",
       "3          2  27   2021\n",
       "4          2  26   2021\n",
       "...      ...  ..    ...\n",
       "26303      6  07   2016\n",
       "26304      6  06   2016\n",
       "26305      6  05   2016\n",
       "26306      6  04   2016\n",
       "26307      6  03   2016\n",
       "\n",
       "[26308 rows x 3 columns]"
      ],
      "text/html": "<div>\n<style scoped>\n    .dataframe tbody tr th:only-of-type {\n        vertical-align: middle;\n    }\n\n    .dataframe tbody tr th {\n        vertical-align: top;\n    }\n\n    .dataframe thead th {\n        text-align: right;\n    }\n</style>\n<table border=\"1\" class=\"dataframe\">\n  <thead>\n    <tr style=\"text-align: right;\">\n      <th></th>\n      <th>month</th>\n      <th>day</th>\n      <th>year</th>\n    </tr>\n  </thead>\n  <tbody>\n    <tr>\n      <th>0</th>\n      <td>3</td>\n      <td>02</td>\n      <td>2021</td>\n    </tr>\n    <tr>\n      <th>1</th>\n      <td>3</td>\n      <td>01</td>\n      <td>2021</td>\n    </tr>\n    <tr>\n      <th>2</th>\n      <td>2</td>\n      <td>28</td>\n      <td>2021</td>\n    </tr>\n    <tr>\n      <th>3</th>\n      <td>2</td>\n      <td>27</td>\n      <td>2021</td>\n    </tr>\n    <tr>\n      <th>4</th>\n      <td>2</td>\n      <td>26</td>\n      <td>2021</td>\n    </tr>\n    <tr>\n      <th>...</th>\n      <td>...</td>\n      <td>...</td>\n      <td>...</td>\n    </tr>\n    <tr>\n      <th>26303</th>\n      <td>6</td>\n      <td>07</td>\n      <td>2016</td>\n    </tr>\n    <tr>\n      <th>26304</th>\n      <td>6</td>\n      <td>06</td>\n      <td>2016</td>\n    </tr>\n    <tr>\n      <th>26305</th>\n      <td>6</td>\n      <td>05</td>\n      <td>2016</td>\n    </tr>\n    <tr>\n      <th>26306</th>\n      <td>6</td>\n      <td>04</td>\n      <td>2016</td>\n    </tr>\n    <tr>\n      <th>26307</th>\n      <td>6</td>\n      <td>03</td>\n      <td>2016</td>\n    </tr>\n  </tbody>\n</table>\n<p>26308 rows × 3 columns</p>\n</div>"
     },
     "metadata": {},
     "execution_count": 19
    }
   ],
   "source": [
    "def monthToNum(shortMonth):\n",
    "    return {\n",
    "            'jan' : 1,\n",
    "            'feb' : 2,\n",
    "            'mar' : 3,\n",
    "            'apr' : 4,\n",
    "            'may' : 5,\n",
    "            'jun' : 6,\n",
    "            'jul' : 7,\n",
    "            'aug' : 8,\n",
    "            'sep' : 9, \n",
    "            'oct' : 10,\n",
    "            'nov' : 11,\n",
    "            'dec' : 12\n",
    "    }[shortMonth]\n",
    "\n",
    "splitdate = pd.DataFrame()\n",
    "splitdate[['month','day','year']] = RawCrypto_df['Date'].str.split(\"\\s|,\", 2, expand=True)\n",
    "splitdate['month'] = splitdate['month'].str.lower()\n",
    "splitdate['month'] = splitdate['month'].apply(monthToNum)\n",
    "# splitdate['M'] = monthToNum(splitdate['M'])\n",
    "splitdate"
   ]
  },
  {
   "cell_type": "code",
   "execution_count": 22,
   "metadata": {},
   "outputs": [
    {
     "output_type": "execute_result",
     "data": {
      "text/plain": [
       "          Coin  Datestamp          Date      Open      High       Low  \\\n",
       "0      bitcoin 2021-03-02  Mar 02, 2021  49612.11  50127.51  47228.85   \n",
       "1      bitcoin 2021-03-01  Mar 01, 2021  45159.50  49784.02  45115.09   \n",
       "2      bitcoin 2021-02-28  Feb 28, 2021  46194.02  46716.43  43241.62   \n",
       "3      bitcoin 2021-02-27  Feb 27, 2021  46344.77  48253.27  45269.03   \n",
       "4      bitcoin 2021-02-26  Feb 26, 2021  47180.46  48370.79  44454.84   \n",
       "...        ...        ...           ...       ...       ...       ...   \n",
       "26303    waves 2016-06-07  Jun 07, 2016      0.77      1.08      0.77   \n",
       "26304    waves 2016-06-06  Jun 06, 2016      0.71      1.17      0.71   \n",
       "26305    waves 2016-06-05  Jun 05, 2016      0.59      1.11      0.58   \n",
       "26306    waves 2016-06-04  Jun 04, 2016      1.09      1.29      0.58   \n",
       "26307    waves 2016-06-03  Jun 03, 2016      1.29      1.66      0.73   \n",
       "\n",
       "          Close        Volume        Market Cap  \n",
       "0      48378.99   47530897720  $901,933,683,269  \n",
       "1      49631.24   53891300112  $925,235,527,882  \n",
       "2      45137.77   53443887451  $841,428,977,515  \n",
       "3      46188.45   45910946382  $860,978,135,421  \n",
       "4      46339.76  350967941479  $863,752,275,053  \n",
       "...         ...           ...               ...  \n",
       "26303      0.84         45932                $0  \n",
       "26304      0.77         95573                $0  \n",
       "26305      0.71         41700                $0  \n",
       "26306      0.59          4912                $0  \n",
       "26307      1.09         57721                $0  \n",
       "\n",
       "[26308 rows x 9 columns]"
      ],
      "text/html": "<div>\n<style scoped>\n    .dataframe tbody tr th:only-of-type {\n        vertical-align: middle;\n    }\n\n    .dataframe tbody tr th {\n        vertical-align: top;\n    }\n\n    .dataframe thead th {\n        text-align: right;\n    }\n</style>\n<table border=\"1\" class=\"dataframe\">\n  <thead>\n    <tr style=\"text-align: right;\">\n      <th></th>\n      <th>Coin</th>\n      <th>Datestamp</th>\n      <th>Date</th>\n      <th>Open</th>\n      <th>High</th>\n      <th>Low</th>\n      <th>Close</th>\n      <th>Volume</th>\n      <th>Market Cap</th>\n    </tr>\n  </thead>\n  <tbody>\n    <tr>\n      <th>0</th>\n      <td>bitcoin</td>\n      <td>2021-03-02</td>\n      <td>Mar 02, 2021</td>\n      <td>49612.11</td>\n      <td>50127.51</td>\n      <td>47228.85</td>\n      <td>48378.99</td>\n      <td>47530897720</td>\n      <td>$901,933,683,269</td>\n    </tr>\n    <tr>\n      <th>1</th>\n      <td>bitcoin</td>\n      <td>2021-03-01</td>\n      <td>Mar 01, 2021</td>\n      <td>45159.50</td>\n      <td>49784.02</td>\n      <td>45115.09</td>\n      <td>49631.24</td>\n      <td>53891300112</td>\n      <td>$925,235,527,882</td>\n    </tr>\n    <tr>\n      <th>2</th>\n      <td>bitcoin</td>\n      <td>2021-02-28</td>\n      <td>Feb 28, 2021</td>\n      <td>46194.02</td>\n      <td>46716.43</td>\n      <td>43241.62</td>\n      <td>45137.77</td>\n      <td>53443887451</td>\n      <td>$841,428,977,515</td>\n    </tr>\n    <tr>\n      <th>3</th>\n      <td>bitcoin</td>\n      <td>2021-02-27</td>\n      <td>Feb 27, 2021</td>\n      <td>46344.77</td>\n      <td>48253.27</td>\n      <td>45269.03</td>\n      <td>46188.45</td>\n      <td>45910946382</td>\n      <td>$860,978,135,421</td>\n    </tr>\n    <tr>\n      <th>4</th>\n      <td>bitcoin</td>\n      <td>2021-02-26</td>\n      <td>Feb 26, 2021</td>\n      <td>47180.46</td>\n      <td>48370.79</td>\n      <td>44454.84</td>\n      <td>46339.76</td>\n      <td>350967941479</td>\n      <td>$863,752,275,053</td>\n    </tr>\n    <tr>\n      <th>...</th>\n      <td>...</td>\n      <td>...</td>\n      <td>...</td>\n      <td>...</td>\n      <td>...</td>\n      <td>...</td>\n      <td>...</td>\n      <td>...</td>\n      <td>...</td>\n    </tr>\n    <tr>\n      <th>26303</th>\n      <td>waves</td>\n      <td>2016-06-07</td>\n      <td>Jun 07, 2016</td>\n      <td>0.77</td>\n      <td>1.08</td>\n      <td>0.77</td>\n      <td>0.84</td>\n      <td>45932</td>\n      <td>$0</td>\n    </tr>\n    <tr>\n      <th>26304</th>\n      <td>waves</td>\n      <td>2016-06-06</td>\n      <td>Jun 06, 2016</td>\n      <td>0.71</td>\n      <td>1.17</td>\n      <td>0.71</td>\n      <td>0.77</td>\n      <td>95573</td>\n      <td>$0</td>\n    </tr>\n    <tr>\n      <th>26305</th>\n      <td>waves</td>\n      <td>2016-06-05</td>\n      <td>Jun 05, 2016</td>\n      <td>0.59</td>\n      <td>1.11</td>\n      <td>0.58</td>\n      <td>0.71</td>\n      <td>41700</td>\n      <td>$0</td>\n    </tr>\n    <tr>\n      <th>26306</th>\n      <td>waves</td>\n      <td>2016-06-04</td>\n      <td>Jun 04, 2016</td>\n      <td>1.09</td>\n      <td>1.29</td>\n      <td>0.58</td>\n      <td>0.59</td>\n      <td>4912</td>\n      <td>$0</td>\n    </tr>\n    <tr>\n      <th>26307</th>\n      <td>waves</td>\n      <td>2016-06-03</td>\n      <td>Jun 03, 2016</td>\n      <td>1.29</td>\n      <td>1.66</td>\n      <td>0.73</td>\n      <td>1.09</td>\n      <td>57721</td>\n      <td>$0</td>\n    </tr>\n  </tbody>\n</table>\n<p>26308 rows × 9 columns</p>\n</div>"
     },
     "metadata": {},
     "execution_count": 22
    }
   ],
   "source": [
    "RawCrypto_df.insert(1,'Datestamp',pd.to_datetime(splitdate[['year','month','day']]))\n",
    "RawCrypto_df"
   ]
  },
  {
   "cell_type": "code",
   "execution_count": null,
   "metadata": {},
   "outputs": [],
   "source": []
  }
 ],
 "metadata": {
  "kernelspec": {
   "display_name": "Python 3",
   "language": "python",
   "name": "python3"
  },
  "language_info": {
   "codemirror_mode": {
    "name": "ipython",
    "version": 3
   },
   "file_extension": ".py",
   "mimetype": "text/x-python",
   "name": "python",
   "nbconvert_exporter": "python",
   "pygments_lexer": "ipython3",
   "version": "3.8.5-final"
  }
 },
 "nbformat": 4,
 "nbformat_minor": 4
}