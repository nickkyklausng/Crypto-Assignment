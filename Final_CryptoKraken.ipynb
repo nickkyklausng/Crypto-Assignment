{
 "cells": [
  {
   "cell_type": "code",
   "execution_count": null,
   "metadata": {},
   "outputs": [],
   "source": [
    "# import modules \n",
    "#%matplotlib notebook\n",
    "import json\n",
    "import requests\n",
    "#from config import api_key\n",
    "import matplotlib.pyplot as plt\n",
    "import numpy as np\n",
    "import pandas as pd\n",
    "import os\n",
    "import csv\n",
    "%matplotlib notebook\n",
    "import matplotlib\n",
    "import matplotlib.dates as mdates\n",
    "import matplotlib.ticker as mtick\n",
    "import datetime\n",
    "from time import strptime\n",
    "import re"
   ]
  },
  {
   "cell_type": "code",
   "execution_count": null,
   "metadata": {},
   "outputs": [],
   "source": [
    "# Read In \n",
    "# Nicks Exchange Rate Tradition Currency CSV File Input \n",
    "file = \"Data/Exchange_Rate_Report1.csv\"\n",
    "clean_foreign_ex = pd.read_csv(file,header=2)\n",
    "clean_foreign_ex = clean_foreign_ex[:-34]\n",
    "clean_foreign_ex"
   ]
  },
  {
   "cell_type": "code",
   "execution_count": null,
   "metadata": {},
   "outputs": [],
   "source": [
    "# Read In \n",
    "# Daves input cryptocurrency data \n",
    "\n",
    "cryptodatafile = 'Data/merged_crypto_data.csv'\n",
    "RawCrypto_df = pd.read_csv(cryptodatafile)\n",
    "RawCrypto_df.head()"
   ]
  },
  {
   "cell_type": "code",
   "execution_count": null,
   "metadata": {},
   "outputs": [],
   "source": [
    "# Clean up \n",
    "# Foreign Exchange Data Cleanup \n",
    "# Set columns for foreign exchange \n",
    "clean_foreign_ex.columns = ['Date','Australian Dollar (AUD)','Chinese Yuan (CNY)','Euro (EUR)','Japanese Yen (JPY)','Swiss Franc (CHF)','U.K. Pound (GBP)','U.S. Dollar (USD)']\n",
    "\n",
    "#reduce dataframe to currencies we need.  AUD, Pound, EURO, Yuan, Yen, Swiss. Set AUD to Float dtype. \n",
    "forex_clean = clean_foreign_ex[[\"Date\", \"Australian Dollar (AUD)\", \"Euro (EUR)\", \"U.K. Pound (GBP)\", \"U.S. Dollar (USD)\"]]\n",
    "forex_clean['Australian Dollar (AUD)'] = forex_clean['Australian Dollar (AUD)'].astype(float)\n",
    "forex_clean.head()"
   ]
  },
  {
   "cell_type": "code",
   "execution_count": null,
   "metadata": {},
   "outputs": [],
   "source": [
    "# Clean Up \n",
    "# Nicks's Traditional Currency Cleanup\n",
    "# Read in String date format, convert to Datestamp obejct and read in as dates \n",
    "def monthToNum(shortMonth):\n",
    "    return {\n",
    "            'jan' : 1,\n",
    "            'feb' : 2,\n",
    "            'mar' : 3,\n",
    "            'apr' : 4,\n",
    "            'may' : 5,\n",
    "            'jun' : 6,\n",
    "            'jul' : 7,\n",
    "            'aug' : 8,\n",
    "            'sep' : 9, \n",
    "            'oct' : 10,\n",
    "            'nov' : 11,\n",
    "            'dec' : 12\n",
    "    }[shortMonth]\n",
    "splitdate = pd.DataFrame()\n",
    "splitdate[['day','month','year']] = forex_clean['Date'].str.split(\"\\s|-\", 2, expand=True)\n",
    "splitdate['month'] = splitdate['month'].str.lower()\n",
    "splitdate['month'] = splitdate['month'].apply(monthToNum)\n",
    "\n",
    "# Insert Datestamp YYYMMDD Column for sorting \n",
    "forex_clean.insert(1,'Datestamp',pd.to_datetime(splitdate[['year','month','day']]))\n",
    "\n",
    "# Fill Empty Cells \n",
    "for_ex_clean = forex_clean.fillna(method='ffill')\n",
    "for_ex_clean\n",
    "\n",
    "forex_clean"
   ]
  },
  {
   "cell_type": "code",
   "execution_count": null,
   "metadata": {},
   "outputs": [],
   "source": [
    "# Clean Up \n",
    "# Dave's Crypto Currency Cleanup\n",
    "\n",
    "# Function to convert \"Date\" to usable / sortable format \n",
    "def monthToNum(shortMonth):\n",
    "    return {\n",
    "            'jan' : 1,\n",
    "            'feb' : 2,\n",
    "            'mar' : 3,\n",
    "            'apr' : 4,\n",
    "            'may' : 5,\n",
    "            'jun' : 6,\n",
    "            'jul' : 7,\n",
    "            'aug' : 8,\n",
    "            'sep' : 9, \n",
    "            'oct' : 10,\n",
    "            'nov' : 11,\n",
    "            'dec' : 12\n",
    "    }[shortMonth]\n",
    "splitdate = pd.DataFrame()\n",
    "splitdate[['month','day','year']] = RawCrypto_df['Date'].str.split(\"\\s|,\", 2, expand=True)\n",
    "splitdate['month'] = splitdate['month'].str.lower()\n",
    "splitdate['month'] = splitdate['month'].apply(monthToNum)\n",
    "\n",
    "# Insert Datestamp YYYMMDD Column for sorting \n",
    "RawCrypto_df.insert(1,'Datestamp',pd.to_datetime(splitdate[['year','month','day']]))\n",
    "RawCrypto_df.dtypes\n",
    "\n",
    "# Recast Coin names as Title-case \n",
    "RawCrypto_df['Coin'] = RawCrypto_df['Coin'].str.title()\n",
    "\n",
    "# Write RawCrypto df to file\n",
    "RawCrypto_df.to_csv('Data/RawCrypto_df.csv')\n",
    "RawCrypto_df"
   ]
  },
  {
   "cell_type": "code",
   "execution_count": null,
   "metadata": {},
   "outputs": [],
   "source": [
    "# Exploration  - Nick \n",
    "# Nick Traditional Currency Groupby Tables \n",
    "groupby_mean_df = forex_clean.groupby(pd.Grouper(key='Datestamp',freq='1M')).mean()\n",
    "forex_groupby_std_df = forex_clean.groupby(pd.Grouper(key='Datestamp',freq='1M')).std()\n",
    "forex_groupby_var_df = forex_clean.groupby(pd.Grouper(key='Datestamp',freq='1M')).var()\n",
    "\n",
    "\n",
    "\n"
   ]
  },
  {
   "cell_type": "code",
   "execution_count": null,
   "metadata": {},
   "outputs": [],
   "source": [
    "# Exploration - David \n",
    "# Dave's Coinlist and Colourlist \n",
    "\n",
    "coinlist = ['Bitcoin','Ethereum','Litecoin','Iota','Monero','Dash']\n",
    "\n",
    "colourdict = {'Bitcoin':'dodgerblue',\n",
    "'Ethereum':'orangered',\n",
    "'Litecoin':'orange',\n",
    "'Iota':'greenyellow',\n",
    "'Monero':'forestgreen',\n",
    "'Dash':'darkturquoise'}"
   ]
  },
  {
   "cell_type": "code",
   "execution_count": null,
   "metadata": {},
   "outputs": [],
   "source": [
    "# Exploration - Nick\n",
    "# Nick's Traditional Currency & Bitcoin Dataframe - create dataframes for combining later \n",
    "cryptodatafile = 'Data/RawCrypto_df.csv'\n",
    "RawCrypto_df = pd.read_csv(cryptodatafile)\n",
    "\n",
    "RawCrypto_df['Datestamp'] = pd.to_datetime(RawCrypto_df['Datestamp'], yearfirst= True)\n",
    "\n",
    "ethereum_df = RawCrypto_df.loc[RawCrypto_df['Coin'] == 'Ethereum'].sort_values(by='Datestamp')\n",
    "bitcoin_df = RawCrypto_df.loc[RawCrypto_df['Coin'] == 'Bitcoin'].sort_values(by='Datestamp')\n",
    "litecoin_df = RawCrypto_df.loc[RawCrypto_df['Coin'] == 'Litecoin'].sort_values(by='Datestamp')\n",
    "\n",
    "bitcoin_std_groupbymonth_df = bitcoin_df.groupby(pd.Grouper(key='Datestamp',freq='1M')).std()\n",
    "ethereum_std_groupbymonth_df = ethereum_df.groupby(pd.Grouper(key='Datestamp',freq='1M')).std()\n",
    "litecoin_std_groupbymonth_df = litecoin_df.groupby(pd.Grouper(key='Datestamp',freq='1M')).std()\n",
    "\n",
    "bitcoin_var_groupbymonth_df = bitcoin_df.groupby(pd.Grouper(key='Datestamp',freq='1M')).var()\n",
    "ethereum_var_groupbymonth_df = ethereum_df.groupby(pd.Grouper(key='Datestamp',freq='1M')).var()\n",
    "litecoin_var_groupbymonth_df = litecoin_df.groupby(pd.Grouper(key='Datestamp',freq='1M')).var()\n",
    "\n",
    "bitcoin_mean_groupbymonth_df = bitcoin_df.groupby(pd.Grouper(key='Datestamp',freq='1M')).mean()\n",
    "ethereum_mean_groupbymonth_df = ethereum_df.groupby(pd.Grouper(key='Datestamp',freq='1M')).mean()\n",
    "litecoin_mean_groupbymonth_df = litecoin_df.groupby(pd.Grouper(key='Datestamp',freq='1M')).mean()\n",
    "\n",
    "\n",
    "bitcoin_mean_groupbymonth_df\n",
    "\n",
    "\n"
   ]
  },
  {
   "cell_type": "code",
   "execution_count": null,
   "metadata": {},
   "outputs": [],
   "source": [
    "# Exploration - Nick\n",
    "# Create combined STD DEV dataframe with Trad Currency and Crypto Currency \n",
    "combined_std_df = pd.DataFrame()\n",
    "\n",
    "combined_std_df['Australian Dollar (AUD)'] = forex_groupby_std_df['Australian Dollar (AUD)']\n",
    "combined_std_df['Euro (EUR)'] = forex_groupby_std_df['Euro (EUR)']\n",
    "combined_std_df['U.K. Pound (GBP)'] = forex_groupby_std_df['U.K. Pound (GBP)']\n",
    "\n",
    "combined_std_df['Bitcoin'] = bitcoin_std_groupbymonth_df['Close']\n",
    "combined_std_df['Ethereum'] = ethereum_std_groupbymonth_df['Close']\n",
    "combined_std_df['Litecoin'] = litecoin_std_groupbymonth_df['Close']"
   ]
  },
  {
   "cell_type": "code",
   "execution_count": null,
   "metadata": {},
   "outputs": [],
   "source": [
    "# Exploration - Nick\n",
    "# Calculate Mean for AUD, CNY, EUR, JPY, CHF, GBP\n",
    "\n",
    "AUD_mean = forex_clean['Australian Dollar (AUD)'].mean()\n",
    "EURO_mean = forex_clean['Euro (EUR)'].mean()\n",
    "GBP_mean = forex_clean['U.K. Pound (GBP)'].mean()\n",
    "USD_mean = forex_clean['U.S. Dollar (USD)'].mean()\n",
    "print(f\"The mean for AUD is {AUD_mean}\")\n",
    "print(f\"The mean for EURO is {EURO_mean}\")\n",
    "print(f\"The mean for GBP is {GBP_mean}\")\n",
    "print(f\"The mean for USD is {USD_mean}\")"
   ]
  },
  {
   "cell_type": "code",
   "execution_count": null,
   "metadata": {},
   "outputs": [],
   "source": [
    "# Push the remade DataFrame to a new CSV file\n",
    "for_ex_clean.to_csv(\"Data/for_ex_clean.csv\",\n",
    "                  encoding=\"utf-8\", index=False, header=True)"
   ]
  },
  {
   "cell_type": "code",
   "execution_count": null,
   "metadata": {},
   "outputs": [],
   "source": [
    "# Dave - Exploration\n",
    "# Loop and create coin-based dataframes for each cryptocurrency \n",
    "\n",
    "for coin in coinlist:\n",
    "    globals()[f\"{coin}_df\"] = RawCrypto_df.loc[RawCrypto_df['Coin'] == coin].sort_values(by='Datestamp')\n",
    "    exec(f\"{coin}_groupbymonth_df = {coin}_df.groupby(pd.Grouper(key='Datestamp',freq='1M'))\")\n",
    "\n",
    "Bitcoin_groupbymonth_df.mean()\n",
    "\n"
   ]
  },
  {
   "cell_type": "code",
   "execution_count": null,
   "metadata": {},
   "outputs": [],
   "source": [
    "# Nick -Exploration and Analysis\n",
    "# get max and min values of traditional currencies \n",
    "\n",
    "#MAX and MIN\n",
    "aud_max = for_ex_clean['Australian Dollar (AUD)'].max()\n",
    "aud_min = for_ex_clean['Australian Dollar (AUD)'].min()\n",
    "\n",
    "euro_max = for_ex_clean['Euro (EUR)'].max()\n",
    "euro_min = for_ex_clean['Euro (EUR)'].min()\n",
    "\n",
    "gbp_max = for_ex_clean['U.K. Pound (GBP)'].max()\n",
    "gbp_min = for_ex_clean['U.K. Pound (GBP)'].min()\n",
    "\n",
    "print(f\"The max value of USD vs AUD is {aud_max} and the min value of USD vs AUD is {aud_min}.\")\n",
    "print(f\"The max value of USD vs EURO is {euro_max} and the min value of USD vs EURO is {euro_min}.\")\n",
    "print(f\"The max value of USD vs GBP is {gbp_max} and the min value of USD vs GBP is {gbp_min}.\")\n",
    "print(f\"---------------------------------------------------------------------------------------------------\")\n",
    "\n",
    "\n",
    "#Standard Deviation\n",
    "aud_std = for_ex_clean['Australian Dollar (AUD)'].std()\n",
    "euro_std = for_ex_clean['Euro (EUR)'].std()\n",
    "gbp_std = for_ex_clean['U.K. Pound (GBP)'].std()\n",
    "\n",
    "print(f\"The Standard Deviation for the AUD is {aud_std}.\")\n",
    "print(f\"The Standard Deviation for the Euro is {euro_std}.\")\n",
    "print(f\"The Standard Deviation for the GBP is {gbp_std}.\")\n",
    "print(f\"---------------------------------------------------------------------------------------------------\")\n",
    "\n",
    "#Mean\n",
    "aud_mean = for_ex_clean['Australian Dollar (AUD)'].mean()\n",
    "euro_mean = for_ex_clean['Euro (EUR)'].mean()\n",
    "gbp_mean = for_ex_clean['U.K. Pound (GBP)'].mean()\n",
    "\n",
    "print(f\"The Mean for the AUD is {aud_mean}.\")\n",
    "print(f\"The Mean for the Euro is {euro_mean}.\")\n",
    "print(f\"The Mean for the GBP is {gbp_mean}.\")\n",
    "print(f\"---------------------------------------------------------------------------------------------------\")\n",
    "\n",
    "#Mode\n",
    "aud_mode = for_ex_clean['Australian Dollar (AUD)'].mode()\n",
    "euro_mode = for_ex_clean['Euro (EUR)'].mode()\n",
    "gbp_mode = for_ex_clean['U.K. Pound (GBP)'].mode()\n",
    "\n",
    "print(f\"The Mode for the AUD is {aud_mode}.\")\n",
    "print(f\"The Mode for the Euro is {euro_mode}.\")\n",
    "print(f\"The Mode for the GBP is {gbp_mode}.\")\n",
    "print(f\"---------------------------------------------------------------------------------------------------\")\n",
    "\n",
    "\n",
    "#Variance \n",
    "aud_var = for_ex_clean['Australian Dollar (AUD)'].var()\n",
    "euro_var = for_ex_clean['Euro (EUR)'].var()\n",
    "gbp_var = for_ex_clean['U.K. Pound (GBP)'].var()\n",
    "\n",
    "print(f\"The Variance for the AUD is {aud_var}.\")\n",
    "print(f\"The Variance for the Euro is {euro_var}.\")\n",
    "print(f\"The Variance for the GBP is {gbp_var}.\")\n",
    "print(f\"---------------------------------------------------------------------------------------------------\")\n"
   ]
  },
  {
   "cell_type": "code",
   "execution_count": null,
   "metadata": {},
   "outputs": [],
   "source": [
    "# Nick - Exploration \n",
    "# AUD Currency Fluctuations\n",
    "plt.plot(groupby_mean_df['Australian Dollar (AUD)'])\n",
    "plt.plot(forex_groupby_std_df['Australian Dollar (AUD)']) \n",
    "plt.xlabel(\"Date\",size=16)\n",
    "plt.ylabel(\"USD/AUD\",size=16)\n",
    "plt.title(\"AUD Currency Fluctuations\", size=18)\n",
    "plt.gca().legend(('Australian Dollar (AUD)','Australian Dollar (AUD) std'))\n",
    "plt.tight_layout()\n",
    "plt.savefig(\"Output/AUD Currency Fluctuations.png,dpi=300\")"
   ]
  },
  {
   "cell_type": "code",
   "execution_count": null,
   "metadata": {},
   "outputs": [],
   "source": [
    "# Nick - Exploration \n",
    "#Euro Currency Fluctuations\n",
    "plt.plot(groupby_mean_df['Euro (EUR)'])\n",
    "plt.plot(forex_groupby_std_df['Euro (EUR)']) \n",
    "plt.xlabel(\"Date\",size=16)\n",
    "plt.ylabel(\"USD/EURO\",size=16)\n",
    "plt.title(\"Euro Currency Fluctuations\", size=18)\n",
    "plt.gca().legend(('Euro (EUR)','Euro (EUR) std'))\n",
    "plt.tight_layout()\n",
    "plt.savefig(\"Output/Euro Currency Fluctuations.png,dpi=300\")"
   ]
  },
  {
   "cell_type": "code",
   "execution_count": null,
   "metadata": {},
   "outputs": [],
   "source": [
    "# Nick - Exploration \n",
    "#GBP Currency Fluctuations\n",
    "plt.plot(groupby_mean_df['U.K. Pound (GBP)'])\n",
    "plt.plot(forex_groupby_std_df['U.K. Pound (GBP)']) \n",
    "plt.xlabel(\"Date\",size=16)\n",
    "plt.ylabel(\"USD/GBP\",size=16)\n",
    "plt.title(\"GBP Currency Fluctuations\", size=18)\n",
    "plt.gca().legend(('U.K. Pound (GBP)','U.K. Pound (GBP) std'))\n",
    "plt.tight_layout()\n",
    "plt.savefig(\"Output/GBP Currency Fluctuations.png,dpi=300\")"
   ]
  },
  {
   "cell_type": "code",
   "execution_count": null,
   "metadata": {},
   "outputs": [],
   "source": [
    "# Nick - Exploration \n",
    "#Bitcoin Fluctuations \n",
    "plt.plot(combined_mean_df['Bitcoin'])\n",
    "plt.plot(combined_std_df['Bitcoin']) \n",
    "plt.xlabel(\"Date\",size=16)\n",
    "plt.ylabel(\"USD/Bitcoin\",size=16)\n",
    "plt.title(\"Bitcoin Currency Fluctuations\", size=18)\n",
    "plt.gca().legend(('Bitcoin','Bitcoin std'))\n",
    "plt.tight_layout()\n",
    "plt.savefig(\"Output/Bitcoin Currency Fluctuations.png,dpi=300\")"
   ]
  },
  {
   "cell_type": "code",
   "execution_count": null,
   "metadata": {},
   "outputs": [],
   "source": [
    "# Nick - Exploration \n",
    "#Ethereum Fluctuations\n",
    "plt.plot(combined_mean_df['Ethereum'])\n",
    "plt.plot(combined_std_df['Ethereum']) \n",
    "plt.xlabel(\"Date\",size=16)\n",
    "plt.ylabel(\"USD/Ethereum\",size=16)\n",
    "plt.title(\"Ethereum Currency Fluctuations\", size=18)\n",
    "plt.gca().legend(('Ethereum','Ethereum std'))\n",
    "plt.tight_layout()\n",
    "plt.savefig(\"Output/Ethereum Currency Fluctuations.png,dpi=300\")"
   ]
  },
  {
   "cell_type": "code",
   "execution_count": null,
   "metadata": {},
   "outputs": [],
   "source": [
    "# Nick - Exploration \n",
    "#Litecoin Fluctuations\n",
    "plt.plot(combined_mean_df['Litecoin'])\n",
    "plt.plot(combined_std_df['Litecoin']) \n",
    "plt.xlabel(\"Date\",size=16)\n",
    "plt.ylabel(\"USD/Litecoin\",size=16)\n",
    "plt.title(\"Litecoin Currency Fluctuations\", size=18)\n",
    "plt.gca().legend(('Litecoin','Litecoin std'))\n",
    "plt.tight_layout()\n",
    "plt.savefig(\"Output/Litecoin Currency Fluctuations.png,dpi=300\")"
   ]
  },
  {
   "cell_type": "code",
   "execution_count": null,
   "metadata": {},
   "outputs": [],
   "source": [
    "# Nick - Exploration \n",
    "#Combined Crypto and Traditional Currencies Fluctuation in STD\n",
    "plt.plot(combined_std_df)\n",
    "plt.legend(loc = 'upper left')\n",
    "plt.ylim(-10, 100)\n",
    "plt.xlabel(\"Date\",size=16)\n",
    "plt.ylabel(\"USD/Currency\",size=16)\n",
    "plt.title(\"Traditional and Crypto Fluctuations(Std)\", size=18)\n",
    "plt.tight_layout()\n",
    "plt.savefig(\"Output/Traditional Vs Crypto-Currencies Fluctuations.png,dpi=300\")"
   ]
  },
  {
   "cell_type": "code",
   "execution_count": null,
   "metadata": {},
   "outputs": [],
   "source": [
    "# Nick - Graphing \n",
    "# Graph STD DEV of crypto fluctuations \n",
    "plt.plot(combined_std_df['Bitcoin'])\n",
    "plt.plot(combined_std_df['Ethereum'])\n",
    "plt.plot(combined_std_df['Litecoin'])\n",
    "plt.legend(loc = 'upper left')\n",
    "plt.ylim(0, 100)\n",
    "plt.xlabel(\"Date\",size=16)\n",
    "plt.ylabel(\"USD/Currency\",size=16)\n",
    "plt.title(\"Cryptocurrency Fluctuations (Std)\", size=18)\n",
    "plt.gca().legend(('Bitcoin','Ethereum', 'Litecoin'))\n",
    "plt.tight_layout()\n",
    "plt.savefig(\"Output/Crypto-Currencies Fluctuations.png,dpi=300\")"
   ]
  },
  {
   "cell_type": "code",
   "execution_count": null,
   "metadata": {},
   "outputs": [],
   "source": [
    "# Nick - Graphing and Analysis \n",
    "#Traditional Cryptocurrency Fluctuations in STD\n",
    "plt.plot(forex_groupby_std_df['U.K. Pound (GBP)']) \n",
    "plt.plot(forex_groupby_std_df['Euro (EUR)']) \n",
    "plt.plot(forex_groupby_std_df['Australian Dollar (AUD)'])\n",
    "plt.ylim(0, 0.2)\n",
    "plt.xlabel(\"Date\",size=16)\n",
    "plt.ylabel(\"USD/Currency\",size=16)\n",
    "plt.title(\"Traditional Currencies Fluctuations (Std)\", size=18)\n",
    "plt.gca().legend(('U.K. Pound (GBP)std','Euro (EUR)std', 'Australian Dollar (AUD)std'))\n",
    "plt.tight_layout()\n",
    "plt.savefig(\"Output/Traditional Currency Fluctuations.png,dpi=300\")"
   ]
  },
  {
   "cell_type": "code",
   "execution_count": null,
   "metadata": {},
   "outputs": [],
   "source": [
    "# David - Anaylsis and Graphing\n",
    "# Plot Cryptocurrency Closing Price over time  \n",
    "# xticklist = [2014,2015,2016,2017,2018,2019,2020,2021,2022]\n",
    "for coin in coinlist:\n",
    "    plt.figure()\n",
    "    exec(f\"ax = {coin}_df.plot('Datestamp','Close',label='{coin}',color=colourdict['{coin}'])\")\n",
    "    exec(f\"plt.title('{coin} Closing Price Over Time')\")\n",
    "    plt.setp(ax.get_xticklabels(), rotation = 30)\n",
    "    ax.set_xlim(pd.Timestamp('2014-01-01'), pd.Timestamp('2021-03-28'))\n",
    "    plt.tight_layout()\n",
    "    fmt = '${x:,.0f}'\n",
    "    tick = mtick.StrMethodFormatter(fmt)\n",
    "    ax.yaxis.set_major_formatter(tick) \n",
    "    exec(f\"ax.yaxis.set_tick_params(which='major', labelcolor='black')\")\n",
    "    exec(f\"plt.savefig('Output/{coin}_Closing_Price_Over_Time.png',dpi=300)\")\n",
    "\n",
    "plt.show()"
   ]
  },
  {
   "cell_type": "code",
   "execution_count": null,
   "metadata": {},
   "outputs": [],
   "source": [
    "# David - Anaylsis and Graphing\n",
    "# Plot Cryptocurrency Average Monthly Price \n",
    "for coin in coinlist:\n",
    "    plt.figure()\n",
    "    exec(f\"plt.plot({coin}_groupbymonth_df[['Close']].mean(), color=colourdict['{coin}'])\")\n",
    "    exec(f\"plt.title('Mean of {coin} Monthly Close prices')\")\n",
    "    plt.xlim([datetime.date(2014,1,1), datetime.date(2021,4,28)])\n",
    "    plt.tight_layout()\n",
    "    plt.ylabel('Price per coin in $ USD')\n",
    "    exec(f\"plt.savefig('Output/{coin}_Average Monthly Price.png',dpi=300)\")"
   ]
  },
  {
   "cell_type": "code",
   "execution_count": null,
   "metadata": {},
   "outputs": [],
   "source": [
    "# David - Anaylsis and Graphing\n",
    "# Plot Cryptocurrency Standard Deviation of Monthly Prices\n",
    "for coin in coinlist:\n",
    "    plt.figure()\n",
    "    exec(f\"plt.plot({coin}_groupbymonth_df[['High']].std(),color=colourdict['{coin}'])\")\n",
    "    exec(f\"plt.title('Standard Deviation of {coin} Monthly High prices')\")\n",
    "    plt.xlim([datetime.date(2014,1,1), datetime.date(2021,4,28)])\n",
    "    plt.ylabel('Standard Deviation of Prices')\n",
    "    plt.xlabel(\"Timepoint\")\n",
    "    plt.tight_layout()\n",
    "    exec(f\"plt.savefig('Output/{coin}_Standard Deviation of Monthly High Prices.png',dpi=300)\")"
   ]
  },
  {
   "cell_type": "code",
   "execution_count": null,
   "metadata": {},
   "outputs": [],
   "source": [
    "# David - Anaylsis and Graphing\n",
    "# Plot Cryptocurrency Variance of Monthly Prices\n",
    "for coin in coinlist:\n",
    "    plt.figure()\n",
    "    exec(f\"plt.plot({coin}_groupbymonth_df[['High']].var(),color=colourdict['{coin}'])\")\n",
    "    exec(f\"plt.title('Variance of {coin} Monthly High/Low prices')\")  \n",
    "    plt.xlim([datetime.date(2014,1,1), datetime.date(2021,4,28)]) \n",
    "    plt.tight_layout()\n",
    "    exec(f\"plt.savefig('Output/{coin} Variance of Monthly High Price.png',dpi=300)\")"
   ]
  },
  {
   "cell_type": "code",
   "execution_count": null,
   "metadata": {},
   "outputs": [],
   "source": [
    "# David - Anaylsis and Graphing\n",
    "# Plot Cryptocurrency Min vs Max Prices \n",
    "\n",
    "from matplotlib.ticker import FuncFormatter\n",
    "\n",
    "for coin in coinlist:\n",
    "    # Create new Delta Dataframe\n",
    "    exec(f\"{coin}_delta = {coin}_groupbymonth_df['High'].max()\")\n",
    "    exec(f\"{coin}_delta = pd.DataFrame({coin}_delta)\")\n",
    "    exec(f\"{coin}_delta['Low'] = {coin}_groupbymonth_df['Low'].min()\")\n",
    "    exec(f\"{coin}_delta['HighLowDelta'] = {coin}_delta['High'] - {coin}_delta['Low']\")\n",
    "    exec(f\"{coin}_delta['Close'] = {coin}_groupbymonth_df['Close'].max()\")\n",
    "    exec(f\"{coin}_delta['CloseDiff'] = {coin}_delta['Close'].diff()\")\n",
    "    exec(f\"{coin}_delta['PctChange'] = ({coin}_delta['CloseDiff']) / ({coin}_delta['Close'] - {coin}_delta['CloseDiff']) * 100 \")    \n",
    "    # Plot Graphs\n",
    "    plt.figure()\n",
    "    fig, ax = plt.subplots()\n",
    "    exec(f\"plt.plot({coin}_delta['High'], color=colourdict['{coin}'])\")\n",
    "    exec(f\"plt.plot({coin}_delta['Low'], color=colourdict['{coin}'])\")\n",
    "    exec(f\"{coin}_delta['x1'] = {coin}_delta.index\")\n",
    "    exec(f\"plt.fill_between(x={coin}_delta['x1'], y1={coin}_delta['Low'], y2={coin}_delta['High'], color=colourdict['{coin}'])\")\n",
    "    exec(f\"plt.suptitle('{coin} Monthly Highest vs Lowest price')\")\n",
    "    exec(f\"plt.title('Thicker Line means Higher Volatility')\")\n",
    "    fmt = '${x:,.0f}'\n",
    "    tick = mtick.StrMethodFormatter(fmt)\n",
    "    ax.yaxis.set_major_formatter(tick) \n",
    "    plt.xlim([datetime.date(2014,1,1), datetime.date(2021,4,28)])\n",
    "    plt.tight_layout()\n",
    "    exec(f\"plt.savefig('Output/{coin} Monthly Highest vs Lowest Price.png',dpi=300)\")\n"
   ]
  },
  {
   "cell_type": "code",
   "execution_count": null,
   "metadata": {},
   "outputs": [],
   "source": [
    "# Analysis and Graphing - David\n",
    "# Create % Change dataframe and plot results \n",
    "\n",
    "PctChange_df = pd.DataFrame()\n",
    "for coin in coinlist:\n",
    "    # copy PctChange colum of various DFs into CoinPctChange Column in One DF\n",
    "    exec(f\"PctChange_df['{coin}PctChange'] = {coin}_delta['PctChange']\")\n",
    "\n",
    "# calculate the mean % change of all coins in table \n",
    "PctChange_df['mean'] = PctChange_df.iloc[:, 0:5].mean(axis=1)\n",
    "\n",
    "# plot results \n",
    "for coin in reversed(coinlist):\n",
    "    exec(f\"plt.plot({coin}_delta[['PctChange']],color=colourdict['{coin}'], linewidth =1.2, label='{coin}' )\")\n",
    "    plt.xlabel('Timepoint')\n",
    "    plt.ylabel('% Increase / Decrease')\n",
    "    plt.xlim([datetime.date(2014,1,1), datetime.date(2021,4,28)])\n",
    "    plt.ylim(-60,350)\n",
    "    plt.axhline(y=0, color = 'black', linewidth = .5)\n",
    "    plt.tight_layout()\n",
    "\n",
    "# plot results continued and save \n",
    "exec(f\"plt.title('% Change of Monthly Mean prices')\")\n",
    "plt.plot(PctChange_df['mean'], linewidth=3.5, label='Mean of % Change')\n",
    "plt.legend(loc=\"upper left\")\n",
    "exec(f\"plt.savefig('Output/All Coins - Percent Change in Monthly Prices.png',dpi=300)\")"
   ]
  },
  {
   "cell_type": "code",
   "execution_count": null,
   "metadata": {},
   "outputs": [],
   "source": [
    "# David - Anaylsis and Graphing\n",
    "# Calculate Log, Square and Square Root of rolling average \n",
    "window = 21\n",
    "dpy = 252\n",
    "ann_factor = dpy / window\n",
    "\n",
    "for coin in reversed(coinlist):\n",
    "    exec(f\"{coin}Log_df = pd.DataFrame()\")\n",
    "    exec(f\"{coin}Log_df['Datestamp'] = {coin}_df['Datestamp']\")\n",
    "    exec(f\"{coin}Log_df['Close'] = {coin}_df['Close']\")\n",
    "    exec(f\"{coin}Log_df = {coin}Log_df.set_index(['Datestamp'])\")\n",
    "    exec(f\"{coin}Log_df['Close'] = np.log({coin}Log_df['Close'])\")\n",
    "\n",
    "    exec(f\"{coin}Log_df['LogRtn'] = {coin}Log_df[['Close']].diff()\")\n",
    "    exec(f\"{coin}Log_df['real_var'] = np.square({coin}Log_df['LogRtn']).rolling(window).sum() * ann_factor\")\n",
    "    exec(f\"{coin}Log_df['real_vol'] = np.sqrt({coin}Log_df['real_var'])\")\n",
    "\n",
    "    exec(f\"plt.plot({coin}Log_df['real_vol'], color=colourdict['{coin}'])\")\n",
    "plt.show()"
   ]
  },
  {
   "cell_type": "code",
   "execution_count": null,
   "metadata": {},
   "outputs": [],
   "source": [
    "# David - Analysis and Graphing \n",
    "# Calculate Volume of Trades Each month\n",
    "\n",
    "for coin in coinlist:\n",
    "    exec(f\"{coin}_groupbymonth_df['Volume'].sum().plot(label='{coin}', color=colourdict['{coin}'])\")\n",
    "    plt.title('Volume of Trades Each Month - Trillions')\n",
    "    plt.ylabel('Number of Trades in Trillions')\n",
    "    plt.xlim([datetime.date(2016,1,1), datetime.date(2021,3,14)])\n",
    "    # plt.gca.legend((coinlist))\n",
    "    plt.legend(loc=\"upper left\")\n",
    "    plt.tight_layout()\n",
    "    exec(f\"plt.savefig('Output/All Coins - Volume of Trades Per Month.png',dpi=300)\")\n",
    "plt.show()"
   ]
  },
  {
   "cell_type": "code",
   "execution_count": null,
   "metadata": {},
   "outputs": [],
   "source": [
    "# David - Analysis and Graphing\n",
    "# Calculate Standard Deviation of Trade Volumes \n",
    "\n",
    "for coin in coinlist:\n",
    "    exec(f\"{coin}_groupbymonth_df['Volume'].std().plot(label='{coin}', color=colourdict['{coin}'])\")\n",
    "    plt.title('Std Dev of Trades Each Month')\n",
    "    plt.ylabel('Std Dev of Trades')\n",
    "    plt.xlim([datetime.date(2016,1,1), datetime.date(2021,3,14)])\n",
    "    # plt.gca.legend((coinlist))\n",
    "    plt.legend(loc=\"upper left\")\n",
    "    plt.tight_layout()\n",
    "    exec(f\"plt.savefig('Output/All Coins - Standard Deviation of Trades Per Month.png',dpi=300)\")\n",
    "plt.show()"
   ]
  },
  {
   "cell_type": "code",
   "execution_count": 67,
   "metadata": {},
   "outputs": [
    {
     "output_type": "display_data",
     "data": {
      "text/plain": "<IPython.core.display.Javascript object>",
      "application/javascript": "/* Put everything inside the global mpl namespace */\n/* global mpl */\nwindow.mpl = {};\n\nmpl.get_websocket_type = function () {\n    if (typeof WebSocket !== 'undefined') {\n        return WebSocket;\n    } else if (typeof MozWebSocket !== 'undefined') {\n        return MozWebSocket;\n    } else {\n        alert(\n            'Your browser does not have WebSocket support. ' +\n                'Please try Chrome, Safari or Firefox ≥ 6. ' +\n                'Firefox 4 and 5 are also supported but you ' +\n                'have to enable WebSockets in about:config.'\n        );\n    }\n};\n\nmpl.figure = function (figure_id, websocket, ondownload, parent_element) {\n    this.id = figure_id;\n\n    this.ws = websocket;\n\n    this.supports_binary = this.ws.binaryType !== undefined;\n\n    if (!this.supports_binary) {\n        var warnings = document.getElementById('mpl-warnings');\n        if (warnings) {\n            warnings.style.display = 'block';\n            warnings.textContent =\n                'This browser does not support binary websocket messages. ' +\n                'Performance may be slow.';\n        }\n    }\n\n    this.imageObj = new Image();\n\n    this.context = undefined;\n    this.message = undefined;\n    this.canvas = undefined;\n    this.rubberband_canvas = undefined;\n    this.rubberband_context = undefined;\n    this.format_dropdown = undefined;\n\n    this.image_mode = 'full';\n\n    this.root = document.createElement('div');\n    this.root.setAttribute('style', 'display: inline-block');\n    this._root_extra_style(this.root);\n\n    parent_element.appendChild(this.root);\n\n    this._init_header(this);\n    this._init_canvas(this);\n    this._init_toolbar(this);\n\n    var fig = this;\n\n    this.waiting = false;\n\n    this.ws.onopen = function () {\n        fig.send_message('supports_binary', { value: fig.supports_binary });\n        fig.send_message('send_image_mode', {});\n        if (fig.ratio !== 1) {\n            fig.send_message('set_dpi_ratio', { dpi_ratio: fig.ratio });\n        }\n        fig.send_message('refresh', {});\n    };\n\n    this.imageObj.onload = function () {\n        if (fig.image_mode === 'full') {\n            // Full images could contain transparency (where diff images\n            // almost always do), so we need to clear the canvas so that\n            // there is no ghosting.\n            fig.context.clearRect(0, 0, fig.canvas.width, fig.canvas.height);\n        }\n        fig.context.drawImage(fig.imageObj, 0, 0);\n    };\n\n    this.imageObj.onunload = function () {\n        fig.ws.close();\n    };\n\n    this.ws.onmessage = this._make_on_message_function(this);\n\n    this.ondownload = ondownload;\n};\n\nmpl.figure.prototype._init_header = function () {\n    var titlebar = document.createElement('div');\n    titlebar.classList =\n        'ui-dialog-titlebar ui-widget-header ui-corner-all ui-helper-clearfix';\n    var titletext = document.createElement('div');\n    titletext.classList = 'ui-dialog-title';\n    titletext.setAttribute(\n        'style',\n        'width: 100%; text-align: center; padding: 3px;'\n    );\n    titlebar.appendChild(titletext);\n    this.root.appendChild(titlebar);\n    this.header = titletext;\n};\n\nmpl.figure.prototype._canvas_extra_style = function (_canvas_div) {};\n\nmpl.figure.prototype._root_extra_style = function (_canvas_div) {};\n\nmpl.figure.prototype._init_canvas = function () {\n    var fig = this;\n\n    var canvas_div = (this.canvas_div = document.createElement('div'));\n    canvas_div.setAttribute(\n        'style',\n        'border: 1px solid #ddd;' +\n            'box-sizing: content-box;' +\n            'clear: both;' +\n            'min-height: 1px;' +\n            'min-width: 1px;' +\n            'outline: 0;' +\n            'overflow: hidden;' +\n            'position: relative;' +\n            'resize: both;'\n    );\n\n    function on_keyboard_event_closure(name) {\n        return function (event) {\n            return fig.key_event(event, name);\n        };\n    }\n\n    canvas_div.addEventListener(\n        'keydown',\n        on_keyboard_event_closure('key_press')\n    );\n    canvas_div.addEventListener(\n        'keyup',\n        on_keyboard_event_closure('key_release')\n    );\n\n    this._canvas_extra_style(canvas_div);\n    this.root.appendChild(canvas_div);\n\n    var canvas = (this.canvas = document.createElement('canvas'));\n    canvas.classList.add('mpl-canvas');\n    canvas.setAttribute('style', 'box-sizing: content-box;');\n\n    this.context = canvas.getContext('2d');\n\n    var backingStore =\n        this.context.backingStorePixelRatio ||\n        this.context.webkitBackingStorePixelRatio ||\n        this.context.mozBackingStorePixelRatio ||\n        this.context.msBackingStorePixelRatio ||\n        this.context.oBackingStorePixelRatio ||\n        this.context.backingStorePixelRatio ||\n        1;\n\n    this.ratio = (window.devicePixelRatio || 1) / backingStore;\n    if (this.ratio !== 1) {\n        fig.send_message('set_dpi_ratio', { dpi_ratio: this.ratio });\n    }\n\n    var rubberband_canvas = (this.rubberband_canvas = document.createElement(\n        'canvas'\n    ));\n    rubberband_canvas.setAttribute(\n        'style',\n        'box-sizing: content-box; position: absolute; left: 0; top: 0; z-index: 1;'\n    );\n\n    var resizeObserver = new ResizeObserver(function (entries) {\n        var nentries = entries.length;\n        for (var i = 0; i < nentries; i++) {\n            var entry = entries[i];\n            var width, height;\n            if (entry.contentBoxSize) {\n                if (entry.contentBoxSize instanceof Array) {\n                    // Chrome 84 implements new version of spec.\n                    width = entry.contentBoxSize[0].inlineSize;\n                    height = entry.contentBoxSize[0].blockSize;\n                } else {\n                    // Firefox implements old version of spec.\n                    width = entry.contentBoxSize.inlineSize;\n                    height = entry.contentBoxSize.blockSize;\n                }\n            } else {\n                // Chrome <84 implements even older version of spec.\n                width = entry.contentRect.width;\n                height = entry.contentRect.height;\n            }\n\n            // Keep the size of the canvas and rubber band canvas in sync with\n            // the canvas container.\n            if (entry.devicePixelContentBoxSize) {\n                // Chrome 84 implements new version of spec.\n                canvas.setAttribute(\n                    'width',\n                    entry.devicePixelContentBoxSize[0].inlineSize\n                );\n                canvas.setAttribute(\n                    'height',\n                    entry.devicePixelContentBoxSize[0].blockSize\n                );\n            } else {\n                canvas.setAttribute('width', width * fig.ratio);\n                canvas.setAttribute('height', height * fig.ratio);\n            }\n            canvas.setAttribute(\n                'style',\n                'width: ' + width + 'px; height: ' + height + 'px;'\n            );\n\n            rubberband_canvas.setAttribute('width', width);\n            rubberband_canvas.setAttribute('height', height);\n\n            // And update the size in Python. We ignore the initial 0/0 size\n            // that occurs as the element is placed into the DOM, which should\n            // otherwise not happen due to the minimum size styling.\n            if (width != 0 && height != 0) {\n                fig.request_resize(width, height);\n            }\n        }\n    });\n    resizeObserver.observe(canvas_div);\n\n    function on_mouse_event_closure(name) {\n        return function (event) {\n            return fig.mouse_event(event, name);\n        };\n    }\n\n    rubberband_canvas.addEventListener(\n        'mousedown',\n        on_mouse_event_closure('button_press')\n    );\n    rubberband_canvas.addEventListener(\n        'mouseup',\n        on_mouse_event_closure('button_release')\n    );\n    // Throttle sequential mouse events to 1 every 20ms.\n    rubberband_canvas.addEventListener(\n        'mousemove',\n        on_mouse_event_closure('motion_notify')\n    );\n\n    rubberband_canvas.addEventListener(\n        'mouseenter',\n        on_mouse_event_closure('figure_enter')\n    );\n    rubberband_canvas.addEventListener(\n        'mouseleave',\n        on_mouse_event_closure('figure_leave')\n    );\n\n    canvas_div.addEventListener('wheel', function (event) {\n        if (event.deltaY < 0) {\n            event.step = 1;\n        } else {\n            event.step = -1;\n        }\n        on_mouse_event_closure('scroll')(event);\n    });\n\n    canvas_div.appendChild(canvas);\n    canvas_div.appendChild(rubberband_canvas);\n\n    this.rubberband_context = rubberband_canvas.getContext('2d');\n    this.rubberband_context.strokeStyle = '#000000';\n\n    this._resize_canvas = function (width, height, forward) {\n        if (forward) {\n            canvas_div.style.width = width + 'px';\n            canvas_div.style.height = height + 'px';\n        }\n    };\n\n    // Disable right mouse context menu.\n    this.rubberband_canvas.addEventListener('contextmenu', function (_e) {\n        event.preventDefault();\n        return false;\n    });\n\n    function set_focus() {\n        canvas.focus();\n        canvas_div.focus();\n    }\n\n    window.setTimeout(set_focus, 100);\n};\n\nmpl.figure.prototype._init_toolbar = function () {\n    var fig = this;\n\n    var toolbar = document.createElement('div');\n    toolbar.classList = 'mpl-toolbar';\n    this.root.appendChild(toolbar);\n\n    function on_click_closure(name) {\n        return function (_event) {\n            return fig.toolbar_button_onclick(name);\n        };\n    }\n\n    function on_mouseover_closure(tooltip) {\n        return function (event) {\n            if (!event.currentTarget.disabled) {\n                return fig.toolbar_button_onmouseover(tooltip);\n            }\n        };\n    }\n\n    fig.buttons = {};\n    var buttonGroup = document.createElement('div');\n    buttonGroup.classList = 'mpl-button-group';\n    for (var toolbar_ind in mpl.toolbar_items) {\n        var name = mpl.toolbar_items[toolbar_ind][0];\n        var tooltip = mpl.toolbar_items[toolbar_ind][1];\n        var image = mpl.toolbar_items[toolbar_ind][2];\n        var method_name = mpl.toolbar_items[toolbar_ind][3];\n\n        if (!name) {\n            /* Instead of a spacer, we start a new button group. */\n            if (buttonGroup.hasChildNodes()) {\n                toolbar.appendChild(buttonGroup);\n            }\n            buttonGroup = document.createElement('div');\n            buttonGroup.classList = 'mpl-button-group';\n            continue;\n        }\n\n        var button = (fig.buttons[name] = document.createElement('button'));\n        button.classList = 'mpl-widget';\n        button.setAttribute('role', 'button');\n        button.setAttribute('aria-disabled', 'false');\n        button.addEventListener('click', on_click_closure(method_name));\n        button.addEventListener('mouseover', on_mouseover_closure(tooltip));\n\n        var icon_img = document.createElement('img');\n        icon_img.src = '_images/' + image + '.png';\n        icon_img.srcset = '_images/' + image + '_large.png 2x';\n        icon_img.alt = tooltip;\n        button.appendChild(icon_img);\n\n        buttonGroup.appendChild(button);\n    }\n\n    if (buttonGroup.hasChildNodes()) {\n        toolbar.appendChild(buttonGroup);\n    }\n\n    var fmt_picker = document.createElement('select');\n    fmt_picker.classList = 'mpl-widget';\n    toolbar.appendChild(fmt_picker);\n    this.format_dropdown = fmt_picker;\n\n    for (var ind in mpl.extensions) {\n        var fmt = mpl.extensions[ind];\n        var option = document.createElement('option');\n        option.selected = fmt === mpl.default_extension;\n        option.innerHTML = fmt;\n        fmt_picker.appendChild(option);\n    }\n\n    var status_bar = document.createElement('span');\n    status_bar.classList = 'mpl-message';\n    toolbar.appendChild(status_bar);\n    this.message = status_bar;\n};\n\nmpl.figure.prototype.request_resize = function (x_pixels, y_pixels) {\n    // Request matplotlib to resize the figure. Matplotlib will then trigger a resize in the client,\n    // which will in turn request a refresh of the image.\n    this.send_message('resize', { width: x_pixels, height: y_pixels });\n};\n\nmpl.figure.prototype.send_message = function (type, properties) {\n    properties['type'] = type;\n    properties['figure_id'] = this.id;\n    this.ws.send(JSON.stringify(properties));\n};\n\nmpl.figure.prototype.send_draw_message = function () {\n    if (!this.waiting) {\n        this.waiting = true;\n        this.ws.send(JSON.stringify({ type: 'draw', figure_id: this.id }));\n    }\n};\n\nmpl.figure.prototype.handle_save = function (fig, _msg) {\n    var format_dropdown = fig.format_dropdown;\n    var format = format_dropdown.options[format_dropdown.selectedIndex].value;\n    fig.ondownload(fig, format);\n};\n\nmpl.figure.prototype.handle_resize = function (fig, msg) {\n    var size = msg['size'];\n    if (size[0] !== fig.canvas.width || size[1] !== fig.canvas.height) {\n        fig._resize_canvas(size[0], size[1], msg['forward']);\n        fig.send_message('refresh', {});\n    }\n};\n\nmpl.figure.prototype.handle_rubberband = function (fig, msg) {\n    var x0 = msg['x0'] / fig.ratio;\n    var y0 = (fig.canvas.height - msg['y0']) / fig.ratio;\n    var x1 = msg['x1'] / fig.ratio;\n    var y1 = (fig.canvas.height - msg['y1']) / fig.ratio;\n    x0 = Math.floor(x0) + 0.5;\n    y0 = Math.floor(y0) + 0.5;\n    x1 = Math.floor(x1) + 0.5;\n    y1 = Math.floor(y1) + 0.5;\n    var min_x = Math.min(x0, x1);\n    var min_y = Math.min(y0, y1);\n    var width = Math.abs(x1 - x0);\n    var height = Math.abs(y1 - y0);\n\n    fig.rubberband_context.clearRect(\n        0,\n        0,\n        fig.canvas.width / fig.ratio,\n        fig.canvas.height / fig.ratio\n    );\n\n    fig.rubberband_context.strokeRect(min_x, min_y, width, height);\n};\n\nmpl.figure.prototype.handle_figure_label = function (fig, msg) {\n    // Updates the figure title.\n    fig.header.textContent = msg['label'];\n};\n\nmpl.figure.prototype.handle_cursor = function (fig, msg) {\n    var cursor = msg['cursor'];\n    switch (cursor) {\n        case 0:\n            cursor = 'pointer';\n            break;\n        case 1:\n            cursor = 'default';\n            break;\n        case 2:\n            cursor = 'crosshair';\n            break;\n        case 3:\n            cursor = 'move';\n            break;\n    }\n    fig.rubberband_canvas.style.cursor = cursor;\n};\n\nmpl.figure.prototype.handle_message = function (fig, msg) {\n    fig.message.textContent = msg['message'];\n};\n\nmpl.figure.prototype.handle_draw = function (fig, _msg) {\n    // Request the server to send over a new figure.\n    fig.send_draw_message();\n};\n\nmpl.figure.prototype.handle_image_mode = function (fig, msg) {\n    fig.image_mode = msg['mode'];\n};\n\nmpl.figure.prototype.handle_history_buttons = function (fig, msg) {\n    for (var key in msg) {\n        if (!(key in fig.buttons)) {\n            continue;\n        }\n        fig.buttons[key].disabled = !msg[key];\n        fig.buttons[key].setAttribute('aria-disabled', !msg[key]);\n    }\n};\n\nmpl.figure.prototype.handle_navigate_mode = function (fig, msg) {\n    if (msg['mode'] === 'PAN') {\n        fig.buttons['Pan'].classList.add('active');\n        fig.buttons['Zoom'].classList.remove('active');\n    } else if (msg['mode'] === 'ZOOM') {\n        fig.buttons['Pan'].classList.remove('active');\n        fig.buttons['Zoom'].classList.add('active');\n    } else {\n        fig.buttons['Pan'].classList.remove('active');\n        fig.buttons['Zoom'].classList.remove('active');\n    }\n};\n\nmpl.figure.prototype.updated_canvas_event = function () {\n    // Called whenever the canvas gets updated.\n    this.send_message('ack', {});\n};\n\n// A function to construct a web socket function for onmessage handling.\n// Called in the figure constructor.\nmpl.figure.prototype._make_on_message_function = function (fig) {\n    return function socket_on_message(evt) {\n        if (evt.data instanceof Blob) {\n            /* FIXME: We get \"Resource interpreted as Image but\n             * transferred with MIME type text/plain:\" errors on\n             * Chrome.  But how to set the MIME type?  It doesn't seem\n             * to be part of the websocket stream */\n            evt.data.type = 'image/png';\n\n            /* Free the memory for the previous frames */\n            if (fig.imageObj.src) {\n                (window.URL || window.webkitURL).revokeObjectURL(\n                    fig.imageObj.src\n                );\n            }\n\n            fig.imageObj.src = (window.URL || window.webkitURL).createObjectURL(\n                evt.data\n            );\n            fig.updated_canvas_event();\n            fig.waiting = false;\n            return;\n        } else if (\n            typeof evt.data === 'string' &&\n            evt.data.slice(0, 21) === 'data:image/png;base64'\n        ) {\n            fig.imageObj.src = evt.data;\n            fig.updated_canvas_event();\n            fig.waiting = false;\n            return;\n        }\n\n        var msg = JSON.parse(evt.data);\n        var msg_type = msg['type'];\n\n        // Call the  \"handle_{type}\" callback, which takes\n        // the figure and JSON message as its only arguments.\n        try {\n            var callback = fig['handle_' + msg_type];\n        } catch (e) {\n            console.log(\n                \"No handler for the '\" + msg_type + \"' message type: \",\n                msg\n            );\n            return;\n        }\n\n        if (callback) {\n            try {\n                // console.log(\"Handling '\" + msg_type + \"' message: \", msg);\n                callback(fig, msg);\n            } catch (e) {\n                console.log(\n                    \"Exception inside the 'handler_\" + msg_type + \"' callback:\",\n                    e,\n                    e.stack,\n                    msg\n                );\n            }\n        }\n    };\n};\n\n// from http://stackoverflow.com/questions/1114465/getting-mouse-location-in-canvas\nmpl.findpos = function (e) {\n    //this section is from http://www.quirksmode.org/js/events_properties.html\n    var targ;\n    if (!e) {\n        e = window.event;\n    }\n    if (e.target) {\n        targ = e.target;\n    } else if (e.srcElement) {\n        targ = e.srcElement;\n    }\n    if (targ.nodeType === 3) {\n        // defeat Safari bug\n        targ = targ.parentNode;\n    }\n\n    // pageX,Y are the mouse positions relative to the document\n    var boundingRect = targ.getBoundingClientRect();\n    var x = e.pageX - (boundingRect.left + document.body.scrollLeft);\n    var y = e.pageY - (boundingRect.top + document.body.scrollTop);\n\n    return { x: x, y: y };\n};\n\n/*\n * return a copy of an object with only non-object keys\n * we need this to avoid circular references\n * http://stackoverflow.com/a/24161582/3208463\n */\nfunction simpleKeys(original) {\n    return Object.keys(original).reduce(function (obj, key) {\n        if (typeof original[key] !== 'object') {\n            obj[key] = original[key];\n        }\n        return obj;\n    }, {});\n}\n\nmpl.figure.prototype.mouse_event = function (event, name) {\n    var canvas_pos = mpl.findpos(event);\n\n    if (name === 'button_press') {\n        this.canvas.focus();\n        this.canvas_div.focus();\n    }\n\n    var x = canvas_pos.x * this.ratio;\n    var y = canvas_pos.y * this.ratio;\n\n    this.send_message(name, {\n        x: x,\n        y: y,\n        button: event.button,\n        step: event.step,\n        guiEvent: simpleKeys(event),\n    });\n\n    /* This prevents the web browser from automatically changing to\n     * the text insertion cursor when the button is pressed.  We want\n     * to control all of the cursor setting manually through the\n     * 'cursor' event from matplotlib */\n    event.preventDefault();\n    return false;\n};\n\nmpl.figure.prototype._key_event_extra = function (_event, _name) {\n    // Handle any extra behaviour associated with a key event\n};\n\nmpl.figure.prototype.key_event = function (event, name) {\n    // Prevent repeat events\n    if (name === 'key_press') {\n        if (event.which === this._key) {\n            return;\n        } else {\n            this._key = event.which;\n        }\n    }\n    if (name === 'key_release') {\n        this._key = null;\n    }\n\n    var value = '';\n    if (event.ctrlKey && event.which !== 17) {\n        value += 'ctrl+';\n    }\n    if (event.altKey && event.which !== 18) {\n        value += 'alt+';\n    }\n    if (event.shiftKey && event.which !== 16) {\n        value += 'shift+';\n    }\n\n    value += 'k';\n    value += event.which.toString();\n\n    this._key_event_extra(event, name);\n\n    this.send_message(name, { key: value, guiEvent: simpleKeys(event) });\n    return false;\n};\n\nmpl.figure.prototype.toolbar_button_onclick = function (name) {\n    if (name === 'download') {\n        this.handle_save(this, null);\n    } else {\n        this.send_message('toolbar_button', { name: name });\n    }\n};\n\nmpl.figure.prototype.toolbar_button_onmouseover = function (tooltip) {\n    this.message.textContent = tooltip;\n};\nmpl.toolbar_items = [[\"Home\", \"Reset original view\", \"fa fa-home icon-home\", \"home\"], [\"Back\", \"Back to previous view\", \"fa fa-arrow-left icon-arrow-left\", \"back\"], [\"Forward\", \"Forward to next view\", \"fa fa-arrow-right icon-arrow-right\", \"forward\"], [\"\", \"\", \"\", \"\"], [\"Pan\", \"Left button pans, Right button zooms\\nx/y fixes axis, CTRL fixes aspect\", \"fa fa-arrows icon-move\", \"pan\"], [\"Zoom\", \"Zoom to rectangle\\nx/y fixes axis, CTRL fixes aspect\", \"fa fa-square-o icon-check-empty\", \"zoom\"], [\"\", \"\", \"\", \"\"], [\"Download\", \"Download plot\", \"fa fa-floppy-o icon-save\", \"download\"]];\n\nmpl.extensions = [\"eps\", \"jpeg\", \"pdf\", \"png\", \"ps\", \"raw\", \"svg\", \"tif\"];\n\nmpl.default_extension = \"png\";/* global mpl */\n\nvar comm_websocket_adapter = function (comm) {\n    // Create a \"websocket\"-like object which calls the given IPython comm\n    // object with the appropriate methods. Currently this is a non binary\n    // socket, so there is still some room for performance tuning.\n    var ws = {};\n\n    ws.close = function () {\n        comm.close();\n    };\n    ws.send = function (m) {\n        //console.log('sending', m);\n        comm.send(m);\n    };\n    // Register the callback with on_msg.\n    comm.on_msg(function (msg) {\n        //console.log('receiving', msg['content']['data'], msg);\n        // Pass the mpl event to the overridden (by mpl) onmessage function.\n        ws.onmessage(msg['content']['data']);\n    });\n    return ws;\n};\n\nmpl.mpl_figure_comm = function (comm, msg) {\n    // This is the function which gets called when the mpl process\n    // starts-up an IPython Comm through the \"matplotlib\" channel.\n\n    var id = msg.content.data.id;\n    // Get hold of the div created by the display call when the Comm\n    // socket was opened in Python.\n    var element = document.getElementById(id);\n    var ws_proxy = comm_websocket_adapter(comm);\n\n    function ondownload(figure, _format) {\n        window.open(figure.canvas.toDataURL());\n    }\n\n    var fig = new mpl.figure(id, ws_proxy, ondownload, element);\n\n    // Call onopen now - mpl needs it, as it is assuming we've passed it a real\n    // web socket which is closed, not our websocket->open comm proxy.\n    ws_proxy.onopen();\n\n    fig.parent_element = element;\n    fig.cell_info = mpl.find_output_cell(\"<div id='\" + id + \"'></div>\");\n    if (!fig.cell_info) {\n        console.error('Failed to find cell for figure', id, fig);\n        return;\n    }\n    fig.cell_info[0].output_area.element.one(\n        'cleared',\n        { fig: fig },\n        fig._remove_fig_handler\n    );\n};\n\nmpl.figure.prototype.handle_close = function (fig, msg) {\n    var width = fig.canvas.width / fig.ratio;\n    fig.cell_info[0].output_area.element.off(\n        'cleared',\n        fig._remove_fig_handler\n    );\n\n    // Update the output cell to use the data from the current canvas.\n    fig.push_to_output();\n    var dataURL = fig.canvas.toDataURL();\n    // Re-enable the keyboard manager in IPython - without this line, in FF,\n    // the notebook keyboard shortcuts fail.\n    IPython.keyboard_manager.enable();\n    fig.parent_element.innerHTML =\n        '<img src=\"' + dataURL + '\" width=\"' + width + '\">';\n    fig.close_ws(fig, msg);\n};\n\nmpl.figure.prototype.close_ws = function (fig, msg) {\n    fig.send_message('closing', msg);\n    // fig.ws.close()\n};\n\nmpl.figure.prototype.push_to_output = function (_remove_interactive) {\n    // Turn the data on the canvas into data in the output cell.\n    var width = this.canvas.width / this.ratio;\n    var dataURL = this.canvas.toDataURL();\n    this.cell_info[1]['text/html'] =\n        '<img src=\"' + dataURL + '\" width=\"' + width + '\">';\n};\n\nmpl.figure.prototype.updated_canvas_event = function () {\n    // Tell IPython that the notebook contents must change.\n    IPython.notebook.set_dirty(true);\n    this.send_message('ack', {});\n    var fig = this;\n    // Wait a second, then push the new image to the DOM so\n    // that it is saved nicely (might be nice to debounce this).\n    setTimeout(function () {\n        fig.push_to_output();\n    }, 1000);\n};\n\nmpl.figure.prototype._init_toolbar = function () {\n    var fig = this;\n\n    var toolbar = document.createElement('div');\n    toolbar.classList = 'btn-toolbar';\n    this.root.appendChild(toolbar);\n\n    function on_click_closure(name) {\n        return function (_event) {\n            return fig.toolbar_button_onclick(name);\n        };\n    }\n\n    function on_mouseover_closure(tooltip) {\n        return function (event) {\n            if (!event.currentTarget.disabled) {\n                return fig.toolbar_button_onmouseover(tooltip);\n            }\n        };\n    }\n\n    fig.buttons = {};\n    var buttonGroup = document.createElement('div');\n    buttonGroup.classList = 'btn-group';\n    var button;\n    for (var toolbar_ind in mpl.toolbar_items) {\n        var name = mpl.toolbar_items[toolbar_ind][0];\n        var tooltip = mpl.toolbar_items[toolbar_ind][1];\n        var image = mpl.toolbar_items[toolbar_ind][2];\n        var method_name = mpl.toolbar_items[toolbar_ind][3];\n\n        if (!name) {\n            /* Instead of a spacer, we start a new button group. */\n            if (buttonGroup.hasChildNodes()) {\n                toolbar.appendChild(buttonGroup);\n            }\n            buttonGroup = document.createElement('div');\n            buttonGroup.classList = 'btn-group';\n            continue;\n        }\n\n        button = fig.buttons[name] = document.createElement('button');\n        button.classList = 'btn btn-default';\n        button.href = '#';\n        button.title = name;\n        button.innerHTML = '<i class=\"fa ' + image + ' fa-lg\"></i>';\n        button.addEventListener('click', on_click_closure(method_name));\n        button.addEventListener('mouseover', on_mouseover_closure(tooltip));\n        buttonGroup.appendChild(button);\n    }\n\n    if (buttonGroup.hasChildNodes()) {\n        toolbar.appendChild(buttonGroup);\n    }\n\n    // Add the status bar.\n    var status_bar = document.createElement('span');\n    status_bar.classList = 'mpl-message pull-right';\n    toolbar.appendChild(status_bar);\n    this.message = status_bar;\n\n    // Add the close button to the window.\n    var buttongrp = document.createElement('div');\n    buttongrp.classList = 'btn-group inline pull-right';\n    button = document.createElement('button');\n    button.classList = 'btn btn-mini btn-primary';\n    button.href = '#';\n    button.title = 'Stop Interaction';\n    button.innerHTML = '<i class=\"fa fa-power-off icon-remove icon-large\"></i>';\n    button.addEventListener('click', function (_evt) {\n        fig.handle_close(fig, {});\n    });\n    button.addEventListener(\n        'mouseover',\n        on_mouseover_closure('Stop Interaction')\n    );\n    buttongrp.appendChild(button);\n    var titlebar = this.root.querySelector('.ui-dialog-titlebar');\n    titlebar.insertBefore(buttongrp, titlebar.firstChild);\n};\n\nmpl.figure.prototype._remove_fig_handler = function (event) {\n    var fig = event.data.fig;\n    fig.close_ws(fig, {});\n};\n\nmpl.figure.prototype._root_extra_style = function (el) {\n    el.style.boxSizing = 'content-box'; // override notebook setting of border-box.\n};\n\nmpl.figure.prototype._canvas_extra_style = function (el) {\n    // this is important to make the div 'focusable\n    el.setAttribute('tabindex', 0);\n    // reach out to IPython and tell the keyboard manager to turn it's self\n    // off when our div gets focus\n\n    // location in version 3\n    if (IPython.notebook.keyboard_manager) {\n        IPython.notebook.keyboard_manager.register_events(el);\n    } else {\n        // location in version 2\n        IPython.keyboard_manager.register_events(el);\n    }\n};\n\nmpl.figure.prototype._key_event_extra = function (event, _name) {\n    var manager = IPython.notebook.keyboard_manager;\n    if (!manager) {\n        manager = IPython.keyboard_manager;\n    }\n\n    // Check for shift+enter\n    if (event.shiftKey && event.which === 13) {\n        this.canvas_div.blur();\n        // select the cell after this one\n        var index = IPython.notebook.find_cell_index(this.cell_info[0]);\n        IPython.notebook.select(index + 1);\n    }\n};\n\nmpl.figure.prototype.handle_save = function (fig, _msg) {\n    fig.ondownload(fig, null);\n};\n\nmpl.find_output_cell = function (html_output) {\n    // Return the cell and output element which can be found *uniquely* in the notebook.\n    // Note - this is a bit hacky, but it is done because the \"notebook_saving.Notebook\"\n    // IPython event is triggered only after the cells have been serialised, which for\n    // our purposes (turning an active figure into a static one), is too late.\n    var cells = IPython.notebook.get_cells();\n    var ncells = cells.length;\n    for (var i = 0; i < ncells; i++) {\n        var cell = cells[i];\n        if (cell.cell_type === 'code') {\n            for (var j = 0; j < cell.output_area.outputs.length; j++) {\n                var data = cell.output_area.outputs[j];\n                if (data.data) {\n                    // IPython >= 3 moved mimebundle to data attribute of output\n                    data = data.data;\n                }\n                if (data['text/html'] === html_output) {\n                    return [cell, data, j];\n                }\n            }\n        }\n    }\n};\n\n// Register the function which deals with the matplotlib target/channel.\n// The kernel may be null if the page has been refreshed.\nif (IPython.notebook.kernel !== null) {\n    IPython.notebook.kernel.comm_manager.register_target(\n        'matplotlib',\n        mpl.mpl_figure_comm\n    );\n}\n"
     },
     "metadata": {}
    },
    {
     "output_type": "display_data",
     "data": {
      "text/plain": "<IPython.core.display.HTML object>",
      "text/html": "<div id='a1eacf8f-e181-4570-aa81-7d9bbfdbc780'></div>"
     },
     "metadata": {}
    },
    {
     "output_type": "stream",
     "name": "stderr",
     "text": [
      "<string>:1: RuntimeWarning: divide by zero encountered in log\n"
     ]
    }
   ],
   "source": [
    "# David - Analysis and Graphing\n",
    "# Calculate Log return of Standard Deviation of Coin Prices \n",
    "\n",
    "for coin in reversed(coinlist):\n",
    "    plt.figure\n",
    "    exec(f\"plt.plot(np.log({coin}_groupbymonth_df[['High']].std()),label={'coin'}, color=colourdict['{coin}'])\")\n",
    "    plt.title('Log of Std Deviation of Coin Prices')\n",
    "    ax.set_xlim(pd.Timestamp('2014-01-01'), pd.Timestamp('2021-03-28'))  \n",
    "    plt.legend(loc=\"upper left\")\n",
    "    exec(f\"plt.savefig('Output/All Coins - Log Return of Standard Deviation of Coin Prices.png',dpi=300)\")\n",
    "plt.show()"
   ]
  },
  {
   "cell_type": "code",
   "execution_count": null,
   "metadata": {},
   "outputs": [],
   "source": [
    "# David - Analysis and Graphing\n",
    "# Calculate Log return of Monthly highest coin prices \n",
    "\n",
    "for coin in coinlist:\n",
    "    plt.figure\n",
    "    exec(f\"plt.plot(np.log({coin}_groupbymonth_df[['High']].max()))\")\n",
    "    plt.title('Log of Monthly Max Coin Prices')\n",
    "    ax.set_xlim(pd.Timestamp('2014-01-01'), pd.Timestamp('2021-03-28'))  \n"
   ]
  },
  {
   "cell_type": "code",
   "execution_count": null,
   "metadata": {},
   "outputs": [],
   "source": []
  },
  {
   "cell_type": "code",
   "execution_count": null,
   "metadata": {},
   "outputs": [],
   "source": []
  },
  {
   "cell_type": "code",
   "execution_count": null,
   "metadata": {},
   "outputs": [],
   "source": []
  },
  {
   "cell_type": "code",
   "execution_count": null,
   "metadata": {},
   "outputs": [],
   "source": []
  },
  {
   "cell_type": "code",
   "execution_count": null,
   "metadata": {},
   "outputs": [],
   "source": []
  },
  {
   "cell_type": "code",
   "execution_count": null,
   "metadata": {},
   "outputs": [],
   "source": []
  },
  {
   "cell_type": "code",
   "execution_count": null,
   "metadata": {},
   "outputs": [],
   "source": []
  },
  {
   "cell_type": "code",
   "execution_count": null,
   "metadata": {},
   "outputs": [],
   "source": []
  },
  {
   "cell_type": "code",
   "execution_count": null,
   "metadata": {},
   "outputs": [],
   "source": []
  },
  {
   "cell_type": "code",
   "execution_count": null,
   "metadata": {},
   "outputs": [],
   "source": []
  },
  {
   "cell_type": "code",
   "execution_count": null,
   "metadata": {},
   "outputs": [],
   "source": []
  },
  {
   "cell_type": "code",
   "execution_count": null,
   "metadata": {},
   "outputs": [],
   "source": []
  },
  {
   "cell_type": "code",
   "execution_count": null,
   "metadata": {},
   "outputs": [],
   "source": []
  },
  {
   "cell_type": "code",
   "execution_count": null,
   "metadata": {},
   "outputs": [],
   "source": []
  },
  {
   "cell_type": "code",
   "execution_count": null,
   "metadata": {},
   "outputs": [],
   "source": []
  },
  {
   "cell_type": "code",
   "execution_count": null,
   "metadata": {},
   "outputs": [],
   "source": []
  },
  {
   "cell_type": "code",
   "execution_count": null,
   "metadata": {},
   "outputs": [],
   "source": []
  },
  {
   "cell_type": "code",
   "execution_count": null,
   "metadata": {},
   "outputs": [],
   "source": []
  },
  {
   "cell_type": "code",
   "execution_count": null,
   "metadata": {},
   "outputs": [],
   "source": []
  },
  {
   "cell_type": "code",
   "execution_count": null,
   "metadata": {},
   "outputs": [],
   "source": []
  },
  {
   "cell_type": "code",
   "execution_count": null,
   "metadata": {},
   "outputs": [],
   "source": []
  },
  {
   "cell_type": "code",
   "execution_count": null,
   "metadata": {},
   "outputs": [],
   "source": []
  },
  {
   "cell_type": "code",
   "execution_count": null,
   "metadata": {},
   "outputs": [],
   "source": []
  },
  {
   "cell_type": "code",
   "execution_count": null,
   "metadata": {},
   "outputs": [],
   "source": []
  },
  {
   "cell_type": "code",
   "execution_count": null,
   "metadata": {},
   "outputs": [],
   "source": []
  },
  {
   "cell_type": "code",
   "execution_count": null,
   "metadata": {},
   "outputs": [],
   "source": []
  },
  {
   "cell_type": "code",
   "execution_count": null,
   "metadata": {},
   "outputs": [],
   "source": []
  },
  {
   "cell_type": "code",
   "execution_count": null,
   "metadata": {},
   "outputs": [],
   "source": []
  },
  {
   "cell_type": "code",
   "execution_count": null,
   "metadata": {},
   "outputs": [],
   "source": []
  },
  {
   "cell_type": "code",
   "execution_count": null,
   "metadata": {},
   "outputs": [],
   "source": []
  },
  {
   "cell_type": "code",
   "execution_count": null,
   "metadata": {},
   "outputs": [],
   "source": []
  },
  {
   "cell_type": "code",
   "execution_count": null,
   "metadata": {},
   "outputs": [],
   "source": []
  },
  {
   "cell_type": "code",
   "execution_count": null,
   "metadata": {},
   "outputs": [],
   "source": []
  },
  {
   "cell_type": "code",
   "execution_count": null,
   "metadata": {},
   "outputs": [],
   "source": []
  },
  {
   "cell_type": "code",
   "execution_count": null,
   "metadata": {},
   "outputs": [],
   "source": []
  },
  {
   "cell_type": "code",
   "execution_count": null,
   "metadata": {},
   "outputs": [],
   "source": []
  },
  {
   "cell_type": "code",
   "execution_count": null,
   "metadata": {},
   "outputs": [],
   "source": []
  },
  {
   "cell_type": "code",
   "execution_count": null,
   "metadata": {},
   "outputs": [],
   "source": []
  },
  {
   "cell_type": "code",
   "execution_count": null,
   "metadata": {},
   "outputs": [],
   "source": []
  },
  {
   "cell_type": "code",
   "execution_count": null,
   "metadata": {},
   "outputs": [],
   "source": []
  },
  {
   "cell_type": "code",
   "execution_count": null,
   "metadata": {},
   "outputs": [],
   "source": []
  }
 ],
 "metadata": {
  "kernelspec": {
   "display_name": "Python 3",
   "language": "python",
   "name": "python3"
  },
  "language_info": {
   "codemirror_mode": {
    "name": "ipython",
    "version": 3
   },
   "file_extension": ".py",
   "mimetype": "text/x-python",
   "name": "python",
   "nbconvert_exporter": "python",
   "pygments_lexer": "ipython3",
   "version": "3.8.5-final"
  }
 },
 "nbformat": 4,
 "nbformat_minor": 4
}